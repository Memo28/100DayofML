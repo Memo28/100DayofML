{
  "nbformat": 4,
  "nbformat_minor": 0,
  "metadata": {
    "colab": {
      "name": "pandas.ipynb",
      "provenance": [],
      "collapsed_sections": [],
      "toc_visible": true,
      "authorship_tag": "ABX9TyPuJfY7R9+pYbqcM1ly8YQK",
      "include_colab_link": true
    },
    "kernelspec": {
      "name": "python3",
      "display_name": "Python 3"
    }
  },
  "cells": [
    {
      "cell_type": "markdown",
      "metadata": {
        "id": "view-in-github",
        "colab_type": "text"
      },
      "source": [
        "<a href=\"https://colab.research.google.com/github/Memo28/100DayofML/blob/master/pandas.ipynb\" target=\"_parent\"><img src=\"https://colab.research.google.com/assets/colab-badge.svg\" alt=\"Open In Colab\"/></a>"
      ]
    },
    {
      "cell_type": "code",
      "metadata": {
        "colab_type": "code",
        "outputId": "cf684ae3-e5c9-439b-9629-a9e4230e2b5f",
        "id": "sSxcexzshnfr",
        "colab": {
          "base_uri": "https://localhost:8080/",
          "height": 125
        }
      },
      "source": [
        "# Series (1D)\n",
        "# Dataframes (2D)\n",
        "# Panels (3D)\n",
        "\n",
        "import pandas as pd\n",
        "\n",
        "series = pd.Series([5, 10, 15, 25, 20])\n",
        "series"
      ],
      "execution_count": 0,
      "outputs": [
        {
          "output_type": "execute_result",
          "data": {
            "text/plain": [
              "0     5\n",
              "1    10\n",
              "2    15\n",
              "3    25\n",
              "4    20\n",
              "dtype: int64"
            ]
          },
          "metadata": {
            "tags": []
          },
          "execution_count": 2
        }
      ]
    },
    {
      "cell_type": "code",
      "metadata": {
        "id": "1YR07DVXhpeg",
        "colab_type": "code",
        "colab": {
          "base_uri": "https://localhost:8080/",
          "height": 35
        },
        "outputId": "455669d9-3c0e-43d4-fc31-1abefaa60de2"
      },
      "source": [
        "type(series)"
      ],
      "execution_count": 3,
      "outputs": [
        {
          "output_type": "execute_result",
          "data": {
            "text/plain": [
              "pandas.core.series.Series"
            ]
          },
          "metadata": {
            "tags": []
          },
          "execution_count": 3
        }
      ]
    },
    {
      "cell_type": "code",
      "metadata": {
        "id": "t9VmNEephvF4",
        "colab_type": "code",
        "colab": {
          "base_uri": "https://localhost:8080/",
          "height": 35
        },
        "outputId": "45cb74b0-aa38-46d5-e982-69a9acb55c0f"
      },
      "source": [
        "series[3]"
      ],
      "execution_count": 4,
      "outputs": [
        {
          "output_type": "execute_result",
          "data": {
            "text/plain": [
              "25"
            ]
          },
          "metadata": {
            "tags": []
          },
          "execution_count": 4
        }
      ]
    },
    {
      "cell_type": "code",
      "metadata": {
        "id": "mv16Q1Evi67C",
        "colab_type": "code",
        "colab": {
          "base_uri": "https://localhost:8080/",
          "height": 107
        },
        "outputId": "d43aeba0-e9f0-4efd-c9cd-6292f23a9e10"
      },
      "source": [
        "cad = pd.Series(['M','e', 'm', 'o'])\n",
        "cad"
      ],
      "execution_count": 5,
      "outputs": [
        {
          "output_type": "execute_result",
          "data": {
            "text/plain": [
              "0    M\n",
              "1    e\n",
              "2    m\n",
              "3    o\n",
              "dtype: object"
            ]
          },
          "metadata": {
            "tags": []
          },
          "execution_count": 5
        }
      ]
    },
    {
      "cell_type": "code",
      "metadata": {
        "id": "FQM0ED1BjBNQ",
        "colab_type": "code",
        "colab": {
          "base_uri": "https://localhost:8080/",
          "height": 142
        },
        "outputId": "916ffefb-6b90-4134-cadf-a95151b7fa33"
      },
      "source": [
        "# Dataframe, estructura parecida a una hoja de calculo de excel\n",
        "lst = ['Gola', 'Asuea', 'Wakure']\n",
        "df = pd.DataFrame(lst)\n",
        "df"
      ],
      "execution_count": 6,
      "outputs": [
        {
          "output_type": "execute_result",
          "data": {
            "text/html": [
              "<div>\n",
              "<style scoped>\n",
              "    .dataframe tbody tr th:only-of-type {\n",
              "        vertical-align: middle;\n",
              "    }\n",
              "\n",
              "    .dataframe tbody tr th {\n",
              "        vertical-align: top;\n",
              "    }\n",
              "\n",
              "    .dataframe thead th {\n",
              "        text-align: right;\n",
              "    }\n",
              "</style>\n",
              "<table border=\"1\" class=\"dataframe\">\n",
              "  <thead>\n",
              "    <tr style=\"text-align: right;\">\n",
              "      <th></th>\n",
              "      <th>0</th>\n",
              "    </tr>\n",
              "  </thead>\n",
              "  <tbody>\n",
              "    <tr>\n",
              "      <th>0</th>\n",
              "      <td>Gola</td>\n",
              "    </tr>\n",
              "    <tr>\n",
              "      <th>1</th>\n",
              "      <td>Asuea</td>\n",
              "    </tr>\n",
              "    <tr>\n",
              "      <th>2</th>\n",
              "      <td>Wakure</td>\n",
              "    </tr>\n",
              "  </tbody>\n",
              "</table>\n",
              "</div>"
            ],
            "text/plain": [
              "        0\n",
              "0    Gola\n",
              "1   Asuea\n",
              "2  Wakure"
            ]
          },
          "metadata": {
            "tags": []
          },
          "execution_count": 6
        }
      ]
    },
    {
      "cell_type": "code",
      "metadata": {
        "id": "5NlLaAoKjfUa",
        "colab_type": "code",
        "colab": {
          "base_uri": "https://localhost:8080/",
          "height": 173
        },
        "outputId": "c28d41ce-fc91-4281-f536-3c93f7813cd2"
      },
      "source": [
        "# Se definen en el objeto, key sera la cabecera y dentro un array con los datos\n",
        "data = {\n",
        "    'Nombre' : ['Juanito', 'Anita', 'Jose', 'Arturo'], \n",
        "    'Edad' : [25, 23, 34, 56], \n",
        "    'Pais' : ['Mexico', 'Urugay', 'Rusia', 'Holanda']\n",
        "    }\n",
        "df = pd.DataFrame(data)\n",
        "df"
      ],
      "execution_count": 11,
      "outputs": [
        {
          "output_type": "execute_result",
          "data": {
            "text/html": [
              "<div>\n",
              "<style scoped>\n",
              "    .dataframe tbody tr th:only-of-type {\n",
              "        vertical-align: middle;\n",
              "    }\n",
              "\n",
              "    .dataframe tbody tr th {\n",
              "        vertical-align: top;\n",
              "    }\n",
              "\n",
              "    .dataframe thead th {\n",
              "        text-align: right;\n",
              "    }\n",
              "</style>\n",
              "<table border=\"1\" class=\"dataframe\">\n",
              "  <thead>\n",
              "    <tr style=\"text-align: right;\">\n",
              "      <th></th>\n",
              "      <th>Nombre</th>\n",
              "      <th>Edad</th>\n",
              "      <th>Pais</th>\n",
              "    </tr>\n",
              "  </thead>\n",
              "  <tbody>\n",
              "    <tr>\n",
              "      <th>0</th>\n",
              "      <td>Juanito</td>\n",
              "      <td>25</td>\n",
              "      <td>Mexico</td>\n",
              "    </tr>\n",
              "    <tr>\n",
              "      <th>1</th>\n",
              "      <td>Anita</td>\n",
              "      <td>23</td>\n",
              "      <td>Urugay</td>\n",
              "    </tr>\n",
              "    <tr>\n",
              "      <th>2</th>\n",
              "      <td>Jose</td>\n",
              "      <td>34</td>\n",
              "      <td>Rusia</td>\n",
              "    </tr>\n",
              "    <tr>\n",
              "      <th>3</th>\n",
              "      <td>Arturo</td>\n",
              "      <td>56</td>\n",
              "      <td>Holanda</td>\n",
              "    </tr>\n",
              "  </tbody>\n",
              "</table>\n",
              "</div>"
            ],
            "text/plain": [
              "    Nombre  Edad     Pais\n",
              "0  Juanito    25   Mexico\n",
              "1    Anita    23   Urugay\n",
              "2     Jose    34    Rusia\n",
              "3   Arturo    56  Holanda"
            ]
          },
          "metadata": {
            "tags": []
          },
          "execution_count": 11
        }
      ]
    },
    {
      "cell_type": "code",
      "metadata": {
        "id": "ltqBEir-mrQD",
        "colab_type": "code",
        "colab": {
          "base_uri": "https://localhost:8080/",
          "height": 173
        },
        "outputId": "d6267c0e-3eec-4fd3-a94b-5943c9293ece"
      },
      "source": [
        "df[['Nombre', 'Pais']]"
      ],
      "execution_count": 13,
      "outputs": [
        {
          "output_type": "execute_result",
          "data": {
            "text/html": [
              "<div>\n",
              "<style scoped>\n",
              "    .dataframe tbody tr th:only-of-type {\n",
              "        vertical-align: middle;\n",
              "    }\n",
              "\n",
              "    .dataframe tbody tr th {\n",
              "        vertical-align: top;\n",
              "    }\n",
              "\n",
              "    .dataframe thead th {\n",
              "        text-align: right;\n",
              "    }\n",
              "</style>\n",
              "<table border=\"1\" class=\"dataframe\">\n",
              "  <thead>\n",
              "    <tr style=\"text-align: right;\">\n",
              "      <th></th>\n",
              "      <th>Nombre</th>\n",
              "      <th>Pais</th>\n",
              "    </tr>\n",
              "  </thead>\n",
              "  <tbody>\n",
              "    <tr>\n",
              "      <th>0</th>\n",
              "      <td>Juanito</td>\n",
              "      <td>Mexico</td>\n",
              "    </tr>\n",
              "    <tr>\n",
              "      <th>1</th>\n",
              "      <td>Anita</td>\n",
              "      <td>Urugay</td>\n",
              "    </tr>\n",
              "    <tr>\n",
              "      <th>2</th>\n",
              "      <td>Jose</td>\n",
              "      <td>Rusia</td>\n",
              "    </tr>\n",
              "    <tr>\n",
              "      <th>3</th>\n",
              "      <td>Arturo</td>\n",
              "      <td>Holanda</td>\n",
              "    </tr>\n",
              "  </tbody>\n",
              "</table>\n",
              "</div>"
            ],
            "text/plain": [
              "    Nombre     Pais\n",
              "0  Juanito   Mexico\n",
              "1    Anita   Urugay\n",
              "2     Jose    Rusia\n",
              "3   Arturo  Holanda"
            ]
          },
          "metadata": {
            "tags": []
          },
          "execution_count": 13
        }
      ]
    },
    {
      "cell_type": "code",
      "metadata": {
        "id": "iplNfUN6ncyp",
        "colab_type": "code",
        "colab": {
          "base_uri": "https://localhost:8080/",
          "height": 111
        },
        "outputId": "090795d2-c782-4852-ce3d-2a0f2f2968da"
      },
      "source": [
        "df.head(2)"
      ],
      "execution_count": 14,
      "outputs": [
        {
          "output_type": "execute_result",
          "data": {
            "text/html": [
              "<div>\n",
              "<style scoped>\n",
              "    .dataframe tbody tr th:only-of-type {\n",
              "        vertical-align: middle;\n",
              "    }\n",
              "\n",
              "    .dataframe tbody tr th {\n",
              "        vertical-align: top;\n",
              "    }\n",
              "\n",
              "    .dataframe thead th {\n",
              "        text-align: right;\n",
              "    }\n",
              "</style>\n",
              "<table border=\"1\" class=\"dataframe\">\n",
              "  <thead>\n",
              "    <tr style=\"text-align: right;\">\n",
              "      <th></th>\n",
              "      <th>Nombre</th>\n",
              "      <th>Edad</th>\n",
              "      <th>Pais</th>\n",
              "    </tr>\n",
              "  </thead>\n",
              "  <tbody>\n",
              "    <tr>\n",
              "      <th>0</th>\n",
              "      <td>Juanito</td>\n",
              "      <td>25</td>\n",
              "      <td>Mexico</td>\n",
              "    </tr>\n",
              "    <tr>\n",
              "      <th>1</th>\n",
              "      <td>Anita</td>\n",
              "      <td>23</td>\n",
              "      <td>Urugay</td>\n",
              "    </tr>\n",
              "  </tbody>\n",
              "</table>\n",
              "</div>"
            ],
            "text/plain": [
              "    Nombre  Edad    Pais\n",
              "0  Juanito    25  Mexico\n",
              "1    Anita    23  Urugay"
            ]
          },
          "metadata": {
            "tags": []
          },
          "execution_count": 14
        }
      ]
    },
    {
      "cell_type": "code",
      "metadata": {
        "id": "xJxaVZ6BnffB",
        "colab_type": "code",
        "colab": {
          "base_uri": "https://localhost:8080/",
          "height": 35
        },
        "outputId": "4ad03a5a-44af-4a2a-82cb-63e9e7f7bdd0"
      },
      "source": [
        "df.Nombre[1]"
      ],
      "execution_count": 16,
      "outputs": [
        {
          "output_type": "execute_result",
          "data": {
            "text/plain": [
              "'Anita'"
            ]
          },
          "metadata": {
            "tags": []
          },
          "execution_count": 16
        }
      ]
    },
    {
      "cell_type": "code",
      "metadata": {
        "id": "_GqlCl0dnn0p",
        "colab_type": "code",
        "colab": {
          "base_uri": "https://localhost:8080/",
          "height": 89
        },
        "outputId": "3abc883c-a1ee-445a-d3c6-457402843ea8"
      },
      "source": [
        "info = df.iloc[2]\n",
        "info"
      ],
      "execution_count": 18,
      "outputs": [
        {
          "output_type": "execute_result",
          "data": {
            "text/plain": [
              "Nombre     Jose\n",
              "Edad         34\n",
              "Pais      Rusia\n",
              "Name: 2, dtype: object"
            ]
          },
          "metadata": {
            "tags": []
          },
          "execution_count": 18
        }
      ]
    },
    {
      "cell_type": "code",
      "metadata": {
        "id": "0F4cyCUdnvui",
        "colab_type": "code",
        "colab": {
          "base_uri": "https://localhost:8080/",
          "height": 173
        },
        "outputId": "eabbd019-e7ac-4ca6-94c3-ee106c77497e"
      },
      "source": [
        "df.tail()"
      ],
      "execution_count": 19,
      "outputs": [
        {
          "output_type": "execute_result",
          "data": {
            "text/html": [
              "<div>\n",
              "<style scoped>\n",
              "    .dataframe tbody tr th:only-of-type {\n",
              "        vertical-align: middle;\n",
              "    }\n",
              "\n",
              "    .dataframe tbody tr th {\n",
              "        vertical-align: top;\n",
              "    }\n",
              "\n",
              "    .dataframe thead th {\n",
              "        text-align: right;\n",
              "    }\n",
              "</style>\n",
              "<table border=\"1\" class=\"dataframe\">\n",
              "  <thead>\n",
              "    <tr style=\"text-align: right;\">\n",
              "      <th></th>\n",
              "      <th>Nombre</th>\n",
              "      <th>Edad</th>\n",
              "      <th>Pais</th>\n",
              "    </tr>\n",
              "  </thead>\n",
              "  <tbody>\n",
              "    <tr>\n",
              "      <th>0</th>\n",
              "      <td>Juanito</td>\n",
              "      <td>25</td>\n",
              "      <td>Mexico</td>\n",
              "    </tr>\n",
              "    <tr>\n",
              "      <th>1</th>\n",
              "      <td>Anita</td>\n",
              "      <td>23</td>\n",
              "      <td>Urugay</td>\n",
              "    </tr>\n",
              "    <tr>\n",
              "      <th>2</th>\n",
              "      <td>Jose</td>\n",
              "      <td>34</td>\n",
              "      <td>Rusia</td>\n",
              "    </tr>\n",
              "    <tr>\n",
              "      <th>3</th>\n",
              "      <td>Arturo</td>\n",
              "      <td>56</td>\n",
              "      <td>Holanda</td>\n",
              "    </tr>\n",
              "  </tbody>\n",
              "</table>\n",
              "</div>"
            ],
            "text/plain": [
              "    Nombre  Edad     Pais\n",
              "0  Juanito    25   Mexico\n",
              "1    Anita    23   Urugay\n",
              "2     Jose    34    Rusia\n",
              "3   Arturo    56  Holanda"
            ]
          },
          "metadata": {
            "tags": []
          },
          "execution_count": 19
        }
      ]
    },
    {
      "cell_type": "code",
      "metadata": {
        "id": "RZ1e9mKqn1Ah",
        "colab_type": "code",
        "colab": {
          "base_uri": "https://localhost:8080/",
          "height": 35
        },
        "outputId": "4b8564bd-263d-4618-910f-5ad2d37d9129"
      },
      "source": [
        "df.shape"
      ],
      "execution_count": 20,
      "outputs": [
        {
          "output_type": "execute_result",
          "data": {
            "text/plain": [
              "(4, 3)"
            ]
          },
          "metadata": {
            "tags": []
          },
          "execution_count": 20
        }
      ]
    },
    {
      "cell_type": "code",
      "metadata": {
        "id": "AIA5fF4en4ax",
        "colab_type": "code",
        "colab": {
          "base_uri": "https://localhost:8080/",
          "height": 35
        },
        "outputId": "fe009491-af08-444a-9526-e38e809d1ef9"
      },
      "source": [
        "df.columns"
      ],
      "execution_count": 21,
      "outputs": [
        {
          "output_type": "execute_result",
          "data": {
            "text/plain": [
              "Index(['Nombre', 'Edad', 'Pais'], dtype='object')"
            ]
          },
          "metadata": {
            "tags": []
          },
          "execution_count": 21
        }
      ]
    },
    {
      "cell_type": "code",
      "metadata": {
        "id": "UW1eHvVZn6si",
        "colab_type": "code",
        "colab": {
          "base_uri": "https://localhost:8080/",
          "height": 107
        },
        "outputId": "0365e32b-05cb-4f21-8321-11d1beea4df3"
      },
      "source": [
        "df['Nombre'].describe()"
      ],
      "execution_count": 22,
      "outputs": [
        {
          "output_type": "execute_result",
          "data": {
            "text/plain": [
              "count          4\n",
              "unique         4\n",
              "top       Arturo\n",
              "freq           1\n",
              "Name: Nombre, dtype: object"
            ]
          },
          "metadata": {
            "tags": []
          },
          "execution_count": 22
        }
      ]
    },
    {
      "cell_type": "code",
      "metadata": {
        "id": "GQzlViGooCRi",
        "colab_type": "code",
        "colab": {
          "base_uri": "https://localhost:8080/",
          "height": 173
        },
        "outputId": "427294a9-aa4e-42f4-d87d-14c5fde71ba7"
      },
      "source": [
        "# Ordenar por columna\n",
        "df.sort_index(axis=0, ascending= False)"
      ],
      "execution_count": 30,
      "outputs": [
        {
          "output_type": "execute_result",
          "data": {
            "text/html": [
              "<div>\n",
              "<style scoped>\n",
              "    .dataframe tbody tr th:only-of-type {\n",
              "        vertical-align: middle;\n",
              "    }\n",
              "\n",
              "    .dataframe tbody tr th {\n",
              "        vertical-align: top;\n",
              "    }\n",
              "\n",
              "    .dataframe thead th {\n",
              "        text-align: right;\n",
              "    }\n",
              "</style>\n",
              "<table border=\"1\" class=\"dataframe\">\n",
              "  <thead>\n",
              "    <tr style=\"text-align: right;\">\n",
              "      <th></th>\n",
              "      <th>Nombre</th>\n",
              "      <th>Edad</th>\n",
              "      <th>Pais</th>\n",
              "    </tr>\n",
              "  </thead>\n",
              "  <tbody>\n",
              "    <tr>\n",
              "      <th>3</th>\n",
              "      <td>Arturo</td>\n",
              "      <td>56</td>\n",
              "      <td>Holanda</td>\n",
              "    </tr>\n",
              "    <tr>\n",
              "      <th>2</th>\n",
              "      <td>Jose</td>\n",
              "      <td>34</td>\n",
              "      <td>Rusia</td>\n",
              "    </tr>\n",
              "    <tr>\n",
              "      <th>1</th>\n",
              "      <td>Anita</td>\n",
              "      <td>23</td>\n",
              "      <td>Urugay</td>\n",
              "    </tr>\n",
              "    <tr>\n",
              "      <th>0</th>\n",
              "      <td>Juanito</td>\n",
              "      <td>25</td>\n",
              "      <td>Mexico</td>\n",
              "    </tr>\n",
              "  </tbody>\n",
              "</table>\n",
              "</div>"
            ],
            "text/plain": [
              "    Nombre  Edad     Pais\n",
              "3   Arturo    56  Holanda\n",
              "2     Jose    34    Rusia\n",
              "1    Anita    23   Urugay\n",
              "0  Juanito    25   Mexico"
            ]
          },
          "metadata": {
            "tags": []
          },
          "execution_count": 30
        }
      ]
    },
    {
      "cell_type": "code",
      "metadata": {
        "id": "MzFcXH1Fourq",
        "colab_type": "code",
        "colab": {
          "base_uri": "https://localhost:8080/",
          "height": 323
        },
        "outputId": "991b998c-1bcd-4afa-8a9d-5b08084cdd7b"
      },
      "source": [
        "# Cargar informacion en el entorno\n",
        "data = pd.read_csv('canciones-2018.csv')\n",
        "data.head\n",
        "data.iloc[21]"
      ],
      "execution_count": 33,
      "outputs": [
        {
          "output_type": "execute_result",
          "data": {
            "text/plain": [
              "id                  3V8UKqhEK5zBkBb6d6ub8\n",
              "name                      Te Bot? - Remix\n",
              "artists                        Nio Garcia\n",
              "danceability                        0.903\n",
              "energy                              0.675\n",
              "key                                    11\n",
              "loudness                           -3.445\n",
              "mode                                    0\n",
              "speechiness                         0.214\n",
              "acousticness                        0.542\n",
              "instrumentalness                 1.28e-05\n",
              "liveness                           0.0595\n",
              "valence                             0.442\n",
              "tempo                              96.507\n",
              "duration_ms                        417920\n",
              "time_signature                          4\n",
              "Name: 21, dtype: object"
            ]
          },
          "metadata": {
            "tags": []
          },
          "execution_count": 33
        }
      ]
    },
    {
      "cell_type": "code",
      "metadata": {
        "id": "7VR93yrcpHZy",
        "colab_type": "code",
        "colab": {
          "base_uri": "https://localhost:8080/",
          "height": 694
        },
        "outputId": "c638518b-10df-43fb-cc64-076d03c5d97b"
      },
      "source": [
        "data.sort_index(axis=1, ascending=True)"
      ],
      "execution_count": 36,
      "outputs": [
        {
          "output_type": "execute_result",
          "data": {
            "text/html": [
              "<div>\n",
              "<style scoped>\n",
              "    .dataframe tbody tr th:only-of-type {\n",
              "        vertical-align: middle;\n",
              "    }\n",
              "\n",
              "    .dataframe tbody tr th {\n",
              "        vertical-align: top;\n",
              "    }\n",
              "\n",
              "    .dataframe thead th {\n",
              "        text-align: right;\n",
              "    }\n",
              "</style>\n",
              "<table border=\"1\" class=\"dataframe\">\n",
              "  <thead>\n",
              "    <tr style=\"text-align: right;\">\n",
              "      <th></th>\n",
              "      <th>acousticness</th>\n",
              "      <th>artists</th>\n",
              "      <th>danceability</th>\n",
              "      <th>duration_ms</th>\n",
              "      <th>energy</th>\n",
              "      <th>id</th>\n",
              "      <th>instrumentalness</th>\n",
              "      <th>key</th>\n",
              "      <th>liveness</th>\n",
              "      <th>loudness</th>\n",
              "      <th>mode</th>\n",
              "      <th>name</th>\n",
              "      <th>speechiness</th>\n",
              "      <th>tempo</th>\n",
              "      <th>time_signature</th>\n",
              "      <th>valence</th>\n",
              "    </tr>\n",
              "  </thead>\n",
              "  <tbody>\n",
              "    <tr>\n",
              "      <th>0</th>\n",
              "      <td>0.0332</td>\n",
              "      <td>Drake</td>\n",
              "      <td>0.754</td>\n",
              "      <td>198973.0</td>\n",
              "      <td>0.449</td>\n",
              "      <td>6DCZcSspjsKoFjzjrWoCd</td>\n",
              "      <td>0.000083</td>\n",
              "      <td>7.0</td>\n",
              "      <td>0.5520</td>\n",
              "      <td>-9.211</td>\n",
              "      <td>1.0</td>\n",
              "      <td>God's Plan</td>\n",
              "      <td>0.1090</td>\n",
              "      <td>77.169</td>\n",
              "      <td>4.0</td>\n",
              "      <td>0.3570</td>\n",
              "    </tr>\n",
              "    <tr>\n",
              "      <th>1</th>\n",
              "      <td>0.2580</td>\n",
              "      <td>XXXTENTACION</td>\n",
              "      <td>0.740</td>\n",
              "      <td>166606.0</td>\n",
              "      <td>0.613</td>\n",
              "      <td>3ee8Jmje8o58CHK66QrVC</td>\n",
              "      <td>0.003720</td>\n",
              "      <td>8.0</td>\n",
              "      <td>0.1230</td>\n",
              "      <td>-4.880</td>\n",
              "      <td>1.0</td>\n",
              "      <td>SAD!</td>\n",
              "      <td>0.1450</td>\n",
              "      <td>75.023</td>\n",
              "      <td>4.0</td>\n",
              "      <td>0.4730</td>\n",
              "    </tr>\n",
              "    <tr>\n",
              "      <th>2</th>\n",
              "      <td>0.1170</td>\n",
              "      <td>Post Malone</td>\n",
              "      <td>0.587</td>\n",
              "      <td>218147.0</td>\n",
              "      <td>0.535</td>\n",
              "      <td>0e7ipj03S05BNilyu5bRz</td>\n",
              "      <td>0.000066</td>\n",
              "      <td>5.0</td>\n",
              "      <td>0.1310</td>\n",
              "      <td>-6.090</td>\n",
              "      <td>0.0</td>\n",
              "      <td>rockstar (feat. 21 Savage)</td>\n",
              "      <td>0.0898</td>\n",
              "      <td>159.847</td>\n",
              "      <td>4.0</td>\n",
              "      <td>0.1400</td>\n",
              "    </tr>\n",
              "    <tr>\n",
              "      <th>3</th>\n",
              "      <td>0.5800</td>\n",
              "      <td>Post Malone</td>\n",
              "      <td>0.739</td>\n",
              "      <td>221440.0</td>\n",
              "      <td>0.559</td>\n",
              "      <td>3swc6WTsr7rl9DqQKQA55</td>\n",
              "      <td>0.000000</td>\n",
              "      <td>8.0</td>\n",
              "      <td>0.1120</td>\n",
              "      <td>-8.011</td>\n",
              "      <td>1.0</td>\n",
              "      <td>Psycho (feat. Ty Dolla $ign)</td>\n",
              "      <td>0.1170</td>\n",
              "      <td>140.124</td>\n",
              "      <td>4.0</td>\n",
              "      <td>0.4390</td>\n",
              "    </tr>\n",
              "    <tr>\n",
              "      <th>4</th>\n",
              "      <td>0.0589</td>\n",
              "      <td>Drake</td>\n",
              "      <td>0.835</td>\n",
              "      <td>217925.0</td>\n",
              "      <td>0.626</td>\n",
              "      <td>2G7V7zsVDxg1yRsu7Ew9R</td>\n",
              "      <td>0.000060</td>\n",
              "      <td>1.0</td>\n",
              "      <td>0.3960</td>\n",
              "      <td>-5.833</td>\n",
              "      <td>1.0</td>\n",
              "      <td>In My Feelings</td>\n",
              "      <td>0.1250</td>\n",
              "      <td>91.030</td>\n",
              "      <td>4.0</td>\n",
              "      <td>0.3500</td>\n",
              "    </tr>\n",
              "    <tr>\n",
              "      <th>...</th>\n",
              "      <td>...</td>\n",
              "      <td>...</td>\n",
              "      <td>...</td>\n",
              "      <td>...</td>\n",
              "      <td>...</td>\n",
              "      <td>...</td>\n",
              "      <td>...</td>\n",
              "      <td>...</td>\n",
              "      <td>...</td>\n",
              "      <td>...</td>\n",
              "      <td>...</td>\n",
              "      <td>...</td>\n",
              "      <td>...</td>\n",
              "      <td>...</td>\n",
              "      <td>...</td>\n",
              "      <td>...</td>\n",
              "    </tr>\n",
              "    <tr>\n",
              "      <th>95</th>\n",
              "      <td>0.0716</td>\n",
              "      <td>Zac Efron</td>\n",
              "      <td>0.684</td>\n",
              "      <td>217440.0</td>\n",
              "      <td>0.619</td>\n",
              "      <td>630sXRhIcfwr2e4RdNtjK</td>\n",
              "      <td>0.000000</td>\n",
              "      <td>10.0</td>\n",
              "      <td>0.1220</td>\n",
              "      <td>-7.005</td>\n",
              "      <td>1.0</td>\n",
              "      <td>Rewrite The Stars</td>\n",
              "      <td>0.0386</td>\n",
              "      <td>125.046</td>\n",
              "      <td>4.0</td>\n",
              "      <td>0.2840</td>\n",
              "    </tr>\n",
              "    <tr>\n",
              "      <th>96</th>\n",
              "      <td>0.2450</td>\n",
              "      <td>Clean Bandit</td>\n",
              "      <td>0.638</td>\n",
              "      <td>205748.0</td>\n",
              "      <td>0.658</td>\n",
              "      <td>2xmrfQpmS2iJExTlklLoA</td>\n",
              "      <td>0.000004</td>\n",
              "      <td>3.0</td>\n",
              "      <td>0.0919</td>\n",
              "      <td>-6.318</td>\n",
              "      <td>1.0</td>\n",
              "      <td>I Miss You (feat. Julia Michaels)</td>\n",
              "      <td>0.0456</td>\n",
              "      <td>105.076</td>\n",
              "      <td>4.0</td>\n",
              "      <td>0.3300</td>\n",
              "    </tr>\n",
              "    <tr>\n",
              "      <th>97</th>\n",
              "      <td>0.0733</td>\n",
              "      <td>DJ Khaled</td>\n",
              "      <td>0.552</td>\n",
              "      <td>260000.0</td>\n",
              "      <td>0.760</td>\n",
              "      <td>5WvAo7DNuPRmk4APhdPzi</td>\n",
              "      <td>0.000000</td>\n",
              "      <td>0.0</td>\n",
              "      <td>0.0865</td>\n",
              "      <td>-4.706</td>\n",
              "      <td>1.0</td>\n",
              "      <td>No Brainer</td>\n",
              "      <td>0.3420</td>\n",
              "      <td>135.702</td>\n",
              "      <td>5.0</td>\n",
              "      <td>0.6390</td>\n",
              "    </tr>\n",
              "    <tr>\n",
              "      <th>98</th>\n",
              "      <td>0.1010</td>\n",
              "      <td>ZAYN</td>\n",
              "      <td>0.258</td>\n",
              "      <td>239000.0</td>\n",
              "      <td>0.437</td>\n",
              "      <td>1j4kHkkpqZRBwE0A4CN4Y</td>\n",
              "      <td>0.000001</td>\n",
              "      <td>11.0</td>\n",
              "      <td>0.1060</td>\n",
              "      <td>-6.593</td>\n",
              "      <td>0.0</td>\n",
              "      <td>Dusk Till Dawn - Radio Edit</td>\n",
              "      <td>0.0390</td>\n",
              "      <td>180.043</td>\n",
              "      <td>4.0</td>\n",
              "      <td>0.0967</td>\n",
              "    </tr>\n",
              "    <tr>\n",
              "      <th>99</th>\n",
              "      <td>0.6970</td>\n",
              "      <td>Dean Lewis</td>\n",
              "      <td>0.553</td>\n",
              "      <td>196373.0</td>\n",
              "      <td>0.586</td>\n",
              "      <td>3EPXxR3ImUwfayaurPi3c</td>\n",
              "      <td>0.000000</td>\n",
              "      <td>11.0</td>\n",
              "      <td>0.0813</td>\n",
              "      <td>-6.319</td>\n",
              "      <td>1.0</td>\n",
              "      <td>Be Alright</td>\n",
              "      <td>0.0362</td>\n",
              "      <td>126.684</td>\n",
              "      <td>4.0</td>\n",
              "      <td>0.4430</td>\n",
              "    </tr>\n",
              "  </tbody>\n",
              "</table>\n",
              "<p>100 rows × 16 columns</p>\n",
              "</div>"
            ],
            "text/plain": [
              "    acousticness       artists  danceability  ...    tempo  time_signature valence\n",
              "0         0.0332         Drake         0.754  ...   77.169             4.0  0.3570\n",
              "1         0.2580  XXXTENTACION         0.740  ...   75.023             4.0  0.4730\n",
              "2         0.1170   Post Malone         0.587  ...  159.847             4.0  0.1400\n",
              "3         0.5800   Post Malone         0.739  ...  140.124             4.0  0.4390\n",
              "4         0.0589         Drake         0.835  ...   91.030             4.0  0.3500\n",
              "..           ...           ...           ...  ...      ...             ...     ...\n",
              "95        0.0716     Zac Efron         0.684  ...  125.046             4.0  0.2840\n",
              "96        0.2450  Clean Bandit         0.638  ...  105.076             4.0  0.3300\n",
              "97        0.0733     DJ Khaled         0.552  ...  135.702             5.0  0.6390\n",
              "98        0.1010          ZAYN         0.258  ...  180.043             4.0  0.0967\n",
              "99        0.6970    Dean Lewis         0.553  ...  126.684             4.0  0.4430\n",
              "\n",
              "[100 rows x 16 columns]"
            ]
          },
          "metadata": {
            "tags": []
          },
          "execution_count": 36
        }
      ]
    }
  ]
}