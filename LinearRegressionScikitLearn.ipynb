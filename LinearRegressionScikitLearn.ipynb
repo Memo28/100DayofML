{
  "nbformat": 4,
  "nbformat_minor": 0,
  "metadata": {
    "colab": {
      "name": "LinearRegressionScikitLearn.ipynb",
      "provenance": [],
      "authorship_tag": "ABX9TyPPHIFxlSHpBgv6SOU24Zh8",
      "include_colab_link": true
    },
    "kernelspec": {
      "name": "python3",
      "display_name": "Python 3"
    }
  },
  "cells": [
    {
      "cell_type": "markdown",
      "metadata": {
        "id": "view-in-github",
        "colab_type": "text"
      },
      "source": [
        "<a href=\"https://colab.research.google.com/github/Memo28/100DayofML/blob/master/LinearRegressionScikitLearn.ipynb\" target=\"_parent\"><img src=\"https://colab.research.google.com/assets/colab-badge.svg\" alt=\"Open In Colab\"/></a>"
      ]
    },
    {
      "cell_type": "code",
      "metadata": {
        "id": "tWkkJ1Jms2hG",
        "colab_type": "code",
        "colab": {}
      },
      "source": [
        "from sklearn.model_selection import train_test_split\n",
        "import pandas as pd\n",
        "import matplotlib.pyplot as plt\n",
        "from sklearn.linear_model import LinearRegression"
      ],
      "execution_count": 0,
      "outputs": []
    },
    {
      "cell_type": "code",
      "metadata": {
        "id": "wiEkKl9qOG-7",
        "colab_type": "code",
        "outputId": "ed1f38b8-4bd1-440a-b6f7-2d47827bd519",
        "colab": {
          "base_uri": "https://localhost:8080/",
          "height": 196
        }
      },
      "source": [
        "datasets = pd.read_csv('salarios.csv')\n",
        "datasets.head(5)"
      ],
      "execution_count": 5,
      "outputs": [
        {
          "output_type": "execute_result",
          "data": {
            "text/html": [
              "<div>\n",
              "<style scoped>\n",
              "    .dataframe tbody tr th:only-of-type {\n",
              "        vertical-align: middle;\n",
              "    }\n",
              "\n",
              "    .dataframe tbody tr th {\n",
              "        vertical-align: top;\n",
              "    }\n",
              "\n",
              "    .dataframe thead th {\n",
              "        text-align: right;\n",
              "    }\n",
              "</style>\n",
              "<table border=\"1\" class=\"dataframe\">\n",
              "  <thead>\n",
              "    <tr style=\"text-align: right;\">\n",
              "      <th></th>\n",
              "      <th>Aexperiencia</th>\n",
              "      <th>Salario</th>\n",
              "    </tr>\n",
              "  </thead>\n",
              "  <tbody>\n",
              "    <tr>\n",
              "      <th>0</th>\n",
              "      <td>10.0</td>\n",
              "      <td>42500</td>\n",
              "    </tr>\n",
              "    <tr>\n",
              "      <th>1</th>\n",
              "      <td>8.0</td>\n",
              "      <td>36302</td>\n",
              "    </tr>\n",
              "    <tr>\n",
              "      <th>2</th>\n",
              "      <td>5.4</td>\n",
              "      <td>35000</td>\n",
              "    </tr>\n",
              "    <tr>\n",
              "      <th>3</th>\n",
              "      <td>2.5</td>\n",
              "      <td>18103</td>\n",
              "    </tr>\n",
              "    <tr>\n",
              "      <th>4</th>\n",
              "      <td>1.0</td>\n",
              "      <td>15000</td>\n",
              "    </tr>\n",
              "  </tbody>\n",
              "</table>\n",
              "</div>"
            ],
            "text/plain": [
              "   Aexperiencia  Salario\n",
              "0          10.0    42500\n",
              "1           8.0    36302\n",
              "2           5.4    35000\n",
              "3           2.5    18103\n",
              "4           1.0    15000"
            ]
          },
          "metadata": {
            "tags": []
          },
          "execution_count": 5
        }
      ]
    },
    {
      "cell_type": "code",
      "metadata": {
        "id": "Eax_xztLObo5",
        "colab_type": "code",
        "outputId": "9857c774-5adb-4bd9-f2ff-a88506bd393e",
        "colab": {
          "base_uri": "https://localhost:8080/",
          "height": 34
        }
      },
      "source": [
        "datasets.shape"
      ],
      "execution_count": 6,
      "outputs": [
        {
          "output_type": "execute_result",
          "data": {
            "text/plain": [
              "(30, 2)"
            ]
          },
          "metadata": {
            "tags": []
          },
          "execution_count": 6
        }
      ]
    },
    {
      "cell_type": "code",
      "metadata": {
        "id": "ZtVb1izCOf26",
        "colab_type": "code",
        "colab": {}
      },
      "source": [
        "x = datasets.iloc[:, :1].values\n",
        "y = datasets.iloc[:, 1].values"
      ],
      "execution_count": 0,
      "outputs": []
    },
    {
      "cell_type": "code",
      "metadata": {
        "id": "G6ypDAehOzQp",
        "colab_type": "code",
        "outputId": "031f6d5d-2e27-402a-d57c-19fb641f53a7",
        "colab": {
          "base_uri": "https://localhost:8080/",
          "height": 436
        }
      },
      "source": [
        "X_train, X_test, Y_train, Y_test = train_test_split(x, y, test_size = 0.2, random_state = 0)\n",
        "X_train"
      ],
      "execution_count": 11,
      "outputs": [
        {
          "output_type": "execute_result",
          "data": {
            "text/plain": [
              "array([[10. ],\n",
              "       [ 7. ],\n",
              "       [ 2. ],\n",
              "       [ 5.3],\n",
              "       [ 8. ],\n",
              "       [ 3. ],\n",
              "       [ 2. ],\n",
              "       [ 2. ],\n",
              "       [ 2.1],\n",
              "       [ 5. ],\n",
              "       [ 8. ],\n",
              "       [ 1. ],\n",
              "       [ 4. ],\n",
              "       [ 1. ],\n",
              "       [ 3. ],\n",
              "       [ 2. ],\n",
              "       [10. ],\n",
              "       [ 6. ],\n",
              "       [10. ],\n",
              "       [ 2.5],\n",
              "       [10. ],\n",
              "       [ 3.4],\n",
              "       [ 5. ],\n",
              "       [ 3. ]])"
            ]
          },
          "metadata": {
            "tags": []
          },
          "execution_count": 11
        }
      ]
    },
    {
      "cell_type": "code",
      "metadata": {
        "id": "csUn82W-5wAq",
        "colab_type": "code",
        "colab": {
          "base_uri": "https://localhost:8080/",
          "height": 34
        },
        "outputId": "40cf1f72-c461-4e3e-fdea-28867e9064e2"
      },
      "source": [
        "regression = LinearRegression()\n",
        "# Training the model\n",
        "regression.fit(X_train, Y_train)"
      ],
      "execution_count": 12,
      "outputs": [
        {
          "output_type": "execute_result",
          "data": {
            "text/plain": [
              "LinearRegression(copy_X=True, fit_intercept=True, n_jobs=None, normalize=False)"
            ]
          },
          "metadata": {
            "tags": []
          },
          "execution_count": 12
        }
      ]
    },
    {
      "cell_type": "code",
      "metadata": {
        "id": "6dyfuZCX6NBI",
        "colab_type": "code",
        "colab": {
          "base_uri": "https://localhost:8080/",
          "height": 295
        },
        "outputId": "bc8cc5f6-feaf-442d-dcee-735dae9d111e"
      },
      "source": [
        "viz_train = plt\n",
        "# Mostrar los datos\n",
        "viz_train.scatter(X_train, Y_train, color = \"blue\")\n",
        "viz_train.plot(X_train, regression.predict(X_train), color=\"black\")\n",
        "viz_train.title(\"Salario VS Experiencia\")\n",
        "viz_train.xlabel(\"Experiencia\")\n",
        "viz_train.ylabel(\"Salario\")\n",
        "viz_train.show()"
      ],
      "execution_count": 16,
      "outputs": [
        {
          "output_type": "display_data",
          "data": {
            "image/png": "[encoded data removed]",
            "text/plain": [
              "<Figure size 432x288 with 1 Axes>"
            ]
          },
          "metadata": {
            "tags": []
          }
        }
      ]
    },
    {
      "cell_type": "code",
      "metadata": {
        "id": "bGArgIDO7XiT",
        "colab_type": "code",
        "colab": {
          "base_uri": "https://localhost:8080/",
          "height": 295
        },
        "outputId": "32cb11ac-38ed-4f95-a80d-0651abfc9dac"
      },
      "source": [
        "viz_train = plt\n",
        "# Mostrar los datos\n",
        "viz_train.scatter(X_test, Y_test, color = \"red\")\n",
        "viz_train.plot(X_train, regression.predict(X_train), color=\"black\")\n",
        "viz_train.title(\"Salario VS Experiencia\")\n",
        "viz_train.xlabel(\"Experiencia\")\n",
        "viz_train.ylabel(\"Salario\")\n",
        "viz_train.show()"
      ],
      "execution_count": 18,
      "outputs": [
        {
          "output_type": "display_data",
          "data": {
            "image/png": "[encoded data removed]",
            "text/plain": [
              "<Figure size 432x288 with 1 Axes>"
            ]
          },
          "metadata": {
            "tags": []
          }
        }
      ]
    },
    {
      "cell_type": "code",
      "metadata": {
        "id": "P8UpC7Fo7tDW",
        "colab_type": "code",
        "colab": {
          "base_uri": "https://localhost:8080/",
          "height": 34
        },
        "outputId": "eb418a40-a766-443f-c77c-d7d2d9ff66a0"
      },
      "source": [
        "# Que tan bueno es el modelo\n",
        "regression.score(X_test, Y_test)"
      ],
      "execution_count": 20,
      "outputs": [
        {
          "output_type": "execute_result",
          "data": {
            "text/plain": [
              "0.7862437374732997"
            ]
          },
          "metadata": {
            "tags": []
          },
          "execution_count": 20
        }
      ]
    },
    {
      "cell_type": "code",
      "metadata": {
        "id": "8UMWJOfd96n5",
        "colab_type": "code",
        "colab": {
          "base_uri": "https://localhost:8080/",
          "height": 196
        },
        "outputId": "87f3c503-c7bd-4b3c-fb92-469fff7e2983"
      },
      "source": [
        "#Agregando informacion de Pais al dataset\n",
        "# 0 Mexico, 1 Peru, 2 Colombia, 3 Chile\n",
        "dataset_country = pd.read_csv('salarios_pais.csv')\n",
        "dataset_country.head()"
      ],
      "execution_count": 21,
      "outputs": [
        {
          "output_type": "execute_result",
          "data": {
            "text/html": [
              "<div>\n",
              "<style scoped>\n",
              "    .dataframe tbody tr th:only-of-type {\n",
              "        vertical-align: middle;\n",
              "    }\n",
              "\n",
              "    .dataframe tbody tr th {\n",
              "        vertical-align: top;\n",
              "    }\n",
              "\n",
              "    .dataframe thead th {\n",
              "        text-align: right;\n",
              "    }\n",
              "</style>\n",
              "<table border=\"1\" class=\"dataframe\">\n",
              "  <thead>\n",
              "    <tr style=\"text-align: right;\">\n",
              "      <th></th>\n",
              "      <th>Aexperiencia</th>\n",
              "      <th>Salario</th>\n",
              "      <th>Pais</th>\n",
              "    </tr>\n",
              "  </thead>\n",
              "  <tbody>\n",
              "    <tr>\n",
              "      <th>0</th>\n",
              "      <td>10.0</td>\n",
              "      <td>42500</td>\n",
              "      <td>0</td>\n",
              "    </tr>\n",
              "    <tr>\n",
              "      <th>1</th>\n",
              "      <td>8.0</td>\n",
              "      <td>36302</td>\n",
              "      <td>1</td>\n",
              "    </tr>\n",
              "    <tr>\n",
              "      <th>2</th>\n",
              "      <td>5.4</td>\n",
              "      <td>35000</td>\n",
              "      <td>2</td>\n",
              "    </tr>\n",
              "    <tr>\n",
              "      <th>3</th>\n",
              "      <td>2.5</td>\n",
              "      <td>18103</td>\n",
              "      <td>3</td>\n",
              "    </tr>\n",
              "    <tr>\n",
              "      <th>4</th>\n",
              "      <td>1.0</td>\n",
              "      <td>15000</td>\n",
              "      <td>3</td>\n",
              "    </tr>\n",
              "  </tbody>\n",
              "</table>\n",
              "</div>"
            ],
            "text/plain": [
              "   Aexperiencia  Salario  Pais\n",
              "0          10.0    42500     0\n",
              "1           8.0    36302     1\n",
              "2           5.4    35000     2\n",
              "3           2.5    18103     3\n",
              "4           1.0    15000     3"
            ]
          },
          "metadata": {
            "tags": []
          },
          "execution_count": 21
        }
      ]
    },
    {
      "cell_type": "code",
      "metadata": {
        "id": "_s7w0gSm-ldH",
        "colab_type": "code",
        "colab": {
          "base_uri": "https://localhost:8080/",
          "height": 540
        },
        "outputId": "519b6dc0-bee0-4309-edb5-175bd0c651ab"
      },
      "source": [
        "x = dataset_country.iloc[:, :1].values\n",
        "y = dataset_country.iloc[:,2:3].values\n",
        "print(x)"
      ],
      "execution_count": 79,
      "outputs": [
        {
          "output_type": "stream",
          "text": [
            "[[10. ]\n",
            " [ 8. ]\n",
            " [ 5.4]\n",
            " [ 2.5]\n",
            " [ 1. ]\n",
            " [ 8. ]\n",
            " [ 4. ]\n",
            " [ 6. ]\n",
            " [ 2. ]\n",
            " [10. ]\n",
            " [ 4. ]\n",
            " [ 7. ]\n",
            " [ 3. ]\n",
            " [ 5. ]\n",
            " [ 2. ]\n",
            " [ 5. ]\n",
            " [ 3. ]\n",
            " [ 2. ]\n",
            " [ 3. ]\n",
            " [ 2. ]\n",
            " [ 5. ]\n",
            " [ 3.4]\n",
            " [ 5.3]\n",
            " [ 2.1]\n",
            " [ 9.2]\n",
            " [10. ]\n",
            " [ 3.2]\n",
            " [10. ]\n",
            " [ 4. ]\n",
            " [ 1. ]]\n"
          ],
          "name": "stdout"
        }
      ]
    },
    {
      "cell_type": "code",
      "metadata": {
        "id": "iL2h7NNBEDtZ",
        "colab_type": "code",
        "colab": {
          "base_uri": "https://localhost:8080/",
          "height": 383
        },
        "outputId": "6c377fa9-4538-4f39-91cd-6c744e0889cb"
      },
      "source": [
        "X_train, X_test, Y_train, Y_test = train_test_split(x, y, test_size = 0.3, random_state = 0)\n",
        "X_train"
      ],
      "execution_count": 74,
      "outputs": [
        {
          "output_type": "execute_result",
          "data": {
            "text/plain": [
              "array([[1],\n",
              "       [0],\n",
              "       [3],\n",
              "       [2],\n",
              "       [1],\n",
              "       [2],\n",
              "       [0],\n",
              "       [1],\n",
              "       [0],\n",
              "       [0],\n",
              "       [3],\n",
              "       [1],\n",
              "       [0],\n",
              "       [1],\n",
              "       [1],\n",
              "       [0],\n",
              "       [3],\n",
              "       [0],\n",
              "       [1],\n",
              "       [1],\n",
              "       [2]])"
            ]
          },
          "metadata": {
            "tags": []
          },
          "execution_count": 74
        }
      ]
    },
    {
      "cell_type": "code",
      "metadata": {
        "id": "7tTp1b8LEJV4",
        "colab_type": "code",
        "colab": {
          "base_uri": "https://localhost:8080/",
          "height": 34
        },
        "outputId": "806c5c83-d638-48c2-e857-408033eed475"
      },
      "source": [
        "regression = LinearRegression()\n",
        "# Training the model\n",
        "regression.fit(X_train, Y_train)"
      ],
      "execution_count": 80,
      "outputs": [
        {
          "output_type": "execute_result",
          "data": {
            "text/plain": [
              "LinearRegression(copy_X=True, fit_intercept=True, n_jobs=None, normalize=False)"
            ]
          },
          "metadata": {
            "tags": []
          },
          "execution_count": 80
        }
      ]
    }
  ]
}