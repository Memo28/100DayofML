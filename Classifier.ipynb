{
  "nbformat": 4,
  "nbformat_minor": 0,
  "metadata": {
    "colab": {
      "name": "Classifier.ipynb",
      "provenance": [],
      "authorship_tag": "ABX9TyPtSCwYdqeWjfDk916JJdWe",
      "include_colab_link": true
    },
    "kernelspec": {
      "name": "python3",
      "display_name": "Python 3"
    },
    "accelerator": "TPU"
  },
  "cells": [
    {
      "cell_type": "markdown",
      "metadata": {
        "id": "view-in-github",
        "colab_type": "text"
      },
      "source": [
        "<a href=\"https://colab.research.google.com/github/Memo28/100DayofML/blob/master/Classifier.ipynb\" target=\"_parent\"><img src=\"https://colab.research.google.com/assets/colab-badge.svg\" alt=\"Open In Colab\"/></a>"
      ]
    },
    {
      "cell_type": "code",
      "metadata": {
        "id": "7E3Ua3x9z57I",
        "colab_type": "code",
        "colab": {}
      },
      "source": [
        "import torch \n",
        "import torch.nn as nn\n",
        "import torch.optim as optim\n",
        "\n",
        "from torchvision import utils\n",
        "from torchvision import datasets\n",
        "from torchvision import transforms\n",
        "\n",
        "from PIL import Image\n",
        "import urllib.request as request\n",
        "from matplotlib import pyplot as plt"
      ],
      "execution_count": 0,
      "outputs": []
    },
    {
      "cell_type": "markdown",
      "metadata": {
        "id": "fj6h0Epfmg0W",
        "colab_type": "text"
      },
      "source": [
        "Building the model"
      ]
    },
    {
      "cell_type": "code",
      "metadata": {
        "id": "N1RX_aenmjye",
        "colab_type": "code",
        "outputId": "92ec72c6-a259-4d67-d813-985d5f80a4d4",
        "colab": {
          "base_uri": "https://localhost:8080/",
          "height": 86
        }
      },
      "source": [
        "# The folder in memory where we are going to save the dataset\n",
        "data_path = 'data/'\n",
        "full_data_set = datasets.CIFAR10(data_path, train=True, download=True, transform=transforms.Compose([\n",
        "                                                                                                     transforms.ToTensor(),\n",
        "                                                                                                     transforms.Normalize((0.4915, 0.4823, 0.4468),\n",
        "                                                                                                                          (0.2470, 0.2435, 0.2616))\n",
        "                                                                                                    ]))\n",
        "\n",
        "full_validation_set = datasets.CIFAR10(data_path, train=False, download=True, transform=transforms.Compose([\n",
        "                                                                                                  transforms.ToTensor(),\n",
        "                                                                                                  transforms.Normalize((0-4915, 0.4823, 0.4468),\n",
        "                                                                                                                       (0.2470, 0.2435, 0.2616)),\n",
        "                                                                                                  ]))\n",
        "                                       \n"
      ],
      "execution_count": 0,
      "outputs": [
        {
          "output_type": "stream",
          "text": [
            "\r0it [00:00, ?it/s]"
          ],
          "name": "stderr"
        },
        {
          "output_type": "stream",
          "text": [
            "Downloading https://www.cs.toronto.edu/~kriz/cifar-10-python.tar.gz to data/cifar-10-python.tar.gz\n"
          ],
          "name": "stdout"
        },
        {
          "output_type": "stream",
          "text": [
            "170500096it [00:02, 81999936.32it/s]                               \n"
          ],
          "name": "stderr"
        },
        {
          "output_type": "stream",
          "text": [
            "Extracting data/cifar-10-python.tar.gz to data/\n",
            "Files already downloaded and verified\n"
          ],
          "name": "stdout"
        }
      ]
    },
    {
      "cell_type": "code",
      "metadata": {
        "id": "hWDuemGkoGLK",
        "colab_type": "code",
        "outputId": "b198f8f1-a901-41d4-ec89-48e5f10caa62",
        "colab": {
          "base_uri": "https://localhost:8080/",
          "height": 225
        }
      },
      "source": [
        "# Dataloader to load the data in bach of 4 images each one\n",
        "size = 4\n",
        "dataloader = torch.utils.data.DataLoader(full_data_set, batch_size=size, shuffle=True, num_workers=2)\n",
        "\n",
        "data_iterator = iter(dataloader)\n",
        "\n",
        "imgs, labels = data_iterator.next()\n",
        "\n",
        "classes = ['plane', 'car', 'bird', 'cat', 'deer', 'dog', 'frog', 'horse', 'ship', 'truck']\n",
        "\n",
        "# Display 4 images\n",
        "plt.imshow(utils.make_grid(imgs).permute(1, 2, 0))\n",
        "\n",
        "for i in range(size):\n",
        "  print(classes[labels[i]])"
      ],
      "execution_count": 0,
      "outputs": [
        {
          "output_type": "stream",
          "text": [
            "Clipping input data to the valid range for imshow with RGB data ([0..1] for floats or [0..255] for integers).\n"
          ],
          "name": "stderr"
        },
        {
          "output_type": "stream",
          "text": [
            "deer\n",
            "frog\n",
            "frog\n",
            "bird\n"
          ],
          "name": "stdout"
        },
        {
          "output_type": "display_data",
          "data": {
            "image/png": "[encoded data removed]",
            "text/plain": [
              "<Figure size 432x288 with 1 Axes>"
            ]
          },
          "metadata": {
            "tags": []
          }
        }
      ]
    },
    {
      "cell_type": "code",
      "metadata": {
        "id": "MgV6PJuoru7C",
        "colab_type": "code",
        "colab": {}
      },
      "source": [
        "#classes = ['plane','car','bird','cat','deer','dog','frog','horse','ship','truck']\n",
        "class_names = ['dog', 'frog']\n",
        "\n",
        "label_map = {5: 0, 6: 1}\n",
        "\n",
        "data_set = [(img, label_map[label]) for img, label in full_data_set if label in [5, 6]]\n",
        "validation_set = [(img, label_map[label]) for img, label in full_validation_set if label in [5, 6]]"
      ],
      "execution_count": 0,
      "outputs": []
    },
    {
      "cell_type": "code",
      "metadata": {
        "id": "imhmxtH0uqBD",
        "colab_type": "code",
        "outputId": "bb6aee2a-1ba0-4163-8bc1-e0064d4dd0fa",
        "colab": {
          "base_uri": "https://localhost:8080/",
          "height": 34
        }
      },
      "source": [
        "img, label = data_set[50]\n",
        "img.shape"
      ],
      "execution_count": 0,
      "outputs": [
        {
          "output_type": "execute_result",
          "data": {
            "text/plain": [
              "torch.Size([3, 32, 32])"
            ]
          },
          "metadata": {
            "tags": []
          },
          "execution_count": 5
        }
      ]
    },
    {
      "cell_type": "code",
      "metadata": {
        "id": "hyfGgwZ_vsWi",
        "colab_type": "code",
        "colab": {}
      },
      "source": [
        "# Creating a NN \n",
        "model = nn.Sequential(\n",
        "                       # Linear transformation with the size of the tensor as input and an outup of X neurons\n",
        "                       nn.Linear(3 * 32 * 32, 512),\n",
        "                       # Activation function\n",
        "                       nn.Tanh(),\n",
        "                       # 512 is the output of linear and we want a binary classifier so we set the out as 2\n",
        "                       nn.Linear(512, 2)\n",
        ")\n"
      ],
      "execution_count": 0,
      "outputs": []
    },
    {
      "cell_type": "code",
      "metadata": {
        "id": "tIbDAYLsyDX3",
        "colab_type": "code",
        "outputId": "116c820a-cc41-4797-9903-cab2e18cab16",
        "colab": {
          "base_uri": "https://localhost:8080/",
          "height": 34
        }
      },
      "source": [
        "# Softmax guarantees that the sum of the probabilities give us 1 \n",
        "\n",
        "def softmax(x):\n",
        "  return torch.exp(x)  / torch.exp(x).sum()\n",
        "\n",
        "x = torch.tensor([ 1.0, 2.0, 3.0])\n",
        "\n",
        "softmax(x).sum()"
      ],
      "execution_count": 0,
      "outputs": [
        {
          "output_type": "execute_result",
          "data": {
            "text/plain": [
              "tensor(1.)"
            ]
          },
          "metadata": {
            "tags": []
          },
          "execution_count": 7
        }
      ]
    },
    {
      "cell_type": "code",
      "metadata": {
        "id": "VrATpqbiyySd",
        "colab_type": "code",
        "colab": {}
      },
      "source": [
        "# Creating a NN \n",
        "model = nn.Sequential(\n",
        "                       # Linear transformation with the size of the tensor as input and an outup of X neurons\n",
        "                       nn.Linear(3 * 32 * 32, 512),\n",
        "                       # Activation function\n",
        "                       nn.Tanh(),\n",
        "                       # 512 is the output of linear and we want a binary classifier so we set the out as 2\n",
        "                       nn.Linear(512, 2),\n",
        "                       nn.Softmax(dim=1)\n",
        ")"
      ],
      "execution_count": 0,
      "outputs": []
    },
    {
      "cell_type": "code",
      "metadata": {
        "id": "zibN7MLXy9lG",
        "colab_type": "code",
        "outputId": "4bfd1e84-9cd6-49a3-8963-649f49625f01",
        "colab": {
          "base_uri": "https://localhost:8080/",
          "height": 301
        }
      },
      "source": [
        "img, label = data_set[12]\n",
        "plt.imshow(img.permute(1, 2, 0))\n",
        "class_names[label]"
      ],
      "execution_count": 0,
      "outputs": [
        {
          "output_type": "stream",
          "text": [
            "Clipping input data to the valid range for imshow with RGB data ([0..1] for floats or [0..255] for integers).\n"
          ],
          "name": "stderr"
        },
        {
          "output_type": "execute_result",
          "data": {
            "text/plain": [
              "'dog'"
            ]
          },
          "metadata": {
            "tags": []
          },
          "execution_count": 9
        },
        {
          "output_type": "display_data",
          "data": {
            "image/png": "[encoded data removed]",
            "text/plain": [
              "<Figure size 432x288 with 1 Axes>"
            ]
          },
          "metadata": {
            "tags": []
          }
        }
      ]
    },
    {
      "cell_type": "code",
      "metadata": {
        "id": "ErWnEpsRzKqk",
        "colab_type": "code",
        "outputId": "d9b67d27-6da3-4d4d-bc62-52a7bdf25fe7",
        "colab": {
          "base_uri": "https://localhost:8080/",
          "height": 34
        }
      },
      "source": [
        "out = model(img.view(-1).unsqueeze(0))\n",
        "out"
      ],
      "execution_count": 0,
      "outputs": [
        {
          "output_type": "execute_result",
          "data": {
            "text/plain": [
              "tensor([[0.5671, 0.4329]], grad_fn=<SoftmaxBackward>)"
            ]
          },
          "metadata": {
            "tags": []
          },
          "execution_count": 10
        }
      ]
    },
    {
      "cell_type": "code",
      "metadata": {
        "id": "kA2AC0CSzWo0",
        "colab_type": "code",
        "outputId": "e0a3ec67-aefa-4ef7-b0e6-75ae9a0d5fbc",
        "colab": {
          "base_uri": "https://localhost:8080/",
          "height": 34
        }
      },
      "source": [
        "_, index = torch.max(out, dim=1)\n",
        "print(class_names[label], class_names[index])"
      ],
      "execution_count": 0,
      "outputs": [
        {
          "output_type": "stream",
          "text": [
            "dog dog\n"
          ],
          "name": "stdout"
        }
      ]
    },
    {
      "cell_type": "code",
      "metadata": {
        "id": "6LXls2N0zGDE",
        "colab_type": "code",
        "colab": {}
      },
      "source": [
        "# Getting better \n",
        "model = nn.Sequential(\n",
        "                       # Linear transformation with the size of the tensor as input and an outup of X neurons\n",
        "                       nn.Linear(3 * 32 * 32, 512),\n",
        "                       # Activation function\n",
        "                       nn.Tanh(),\n",
        "                       # 512 is the output of linear and we want a binary classifier so we set the out as 2\n",
        "                       nn.Linear(512, 2),\n",
        "                       nn.LogSoftmax(dim=1)\n",
        ")\n",
        "# Adding a loss function\n",
        "loss_function = nn.NLLLoss()"
      ],
      "execution_count": 0,
      "outputs": []
    },
    {
      "cell_type": "code",
      "metadata": {
        "id": "_ysE6gMW2R8A",
        "colab_type": "code",
        "outputId": "8e9d79a1-4257-442d-ec7c-24eda50eed3f",
        "colab": {
          "base_uri": "https://localhost:8080/",
          "height": 301
        }
      },
      "source": [
        "img, label = data_set[12]\n",
        "plt.imshow(img.permute(1, 2, 0))\n",
        "class_names[label]\n",
        "\n",
        "out = model(img.view(-1).unsqueeze(0))\n",
        "out\n",
        "\n",
        "_, index = torch.max(out, dim=1)\n",
        "print(class_names[label], class_names[index])"
      ],
      "execution_count": 0,
      "outputs": [
        {
          "output_type": "stream",
          "text": [
            "Clipping input data to the valid range for imshow with RGB data ([0..1] for floats or [0..255] for integers).\n"
          ],
          "name": "stderr"
        },
        {
          "output_type": "stream",
          "text": [
            "dog frog\n"
          ],
          "name": "stdout"
        },
        {
          "output_type": "display_data",
          "data": {
            "image/png": "[encoded data removed]",
            "text/plain": [
              "<Figure size 432x288 with 1 Axes>"
            ]
          },
          "metadata": {
            "tags": []
          }
        }
      ]
    },
    {
      "cell_type": "code",
      "metadata": {
        "id": "440jEKxY2mOO",
        "colab_type": "code",
        "outputId": "9225d73c-fe34-4c43-890d-f62764ff1c07",
        "colab": {
          "base_uri": "https://localhost:8080/",
          "height": 104
        }
      },
      "source": [
        "# Training the model\n",
        "\n",
        "# Iteration number\n",
        "n_ephocs = 5\n",
        "\n",
        "# Optimizer\n",
        "optimizer = optim.SGD(model.parameters(), lr=0.01)\n",
        "\n",
        "# Training the model\n",
        "for ephoc in range(n_ephocs):\n",
        "  for img, label in data_set:\n",
        "    out = model(img.view(-1).unsqueeze(0))\n",
        "    loss = loss_function(out, torch.tensor([label]))\n",
        "\n",
        "    optimizer.zero_grad()\n",
        "    loss.backward()\n",
        "    optimizer.step()\n",
        "\n",
        "  print((ephoc, float(loss)))"
      ],
      "execution_count": 0,
      "outputs": [
        {
          "output_type": "stream",
          "text": [
            "(0, 4.030249118804932)\n",
            "(1, 2.577427387237549)\n",
            "(2, 6.378727436065674)\n",
            "(3, 0.015292301774024963)\n",
            "(4, 0.04210127517580986)\n"
          ],
          "name": "stdout"
        }
      ]
    },
    {
      "cell_type": "code",
      "metadata": {
        "id": "hNMyh8X80KHV",
        "colab_type": "code",
        "outputId": "24d0bd18-1701-43b8-ef91-e346a39b9509",
        "colab": {
          "base_uri": "https://localhost:8080/",
          "height": 1000
        }
      },
      "source": [
        "# Adding a train loader to the training elements\n",
        "train_loader = torch.utils.data.DataLoader(data_set, batch_size=64, shuffle=True)\n",
        "\n",
        "# NN\n",
        "# Getting better \n",
        "model = nn.Sequential(\n",
        "                       # Linear transformation with the size of the tensor as input and an outup of X neurons\n",
        "                       nn.Linear(3 * 32 * 32, 512),\n",
        "                       # Activation function\n",
        "                       nn.Tanh(),\n",
        "                       # 512 is the output of linear and we want a binary classifier so we set the out as 2\n",
        "                       nn.Linear(512, 2),\n",
        "                       nn.LogSoftmax(dim=1)\n",
        ")\n",
        "\n",
        "# Adding a loss function\n",
        "loss_function = nn.NLLLoss()\n",
        "\n",
        "# Iteration number\n",
        "n_ephocs = 100\n",
        "\n",
        "# Optimizer\n",
        "optimizer = optim.SGD(model.parameters(), lr=0.01)\n",
        "\n",
        "# Training the model this time we are going to iterate over the train loader\n",
        "for ephoc in range(n_ephocs):\n",
        "  for img, label in train_loader:\n",
        "    out = model(img.view(img.shape[0], -1))\n",
        "    loss = loss_function(out, label)\n",
        "\n",
        "    optimizer.zero_grad()\n",
        "    loss.backward()\n",
        "    optimizer.step()\n",
        "\n",
        "\n",
        "  print((ephoc, float(loss)))"
      ],
      "execution_count": 0,
      "outputs": [
        {
          "output_type": "stream",
          "text": [
            "(0, 0.49516233801841736)\n",
            "(1, 0.5882179141044617)\n",
            "(2, 0.5969717502593994)\n",
            "(3, 0.5217126607894897)\n",
            "(4, 0.8990272283554077)\n",
            "(5, 0.37610924243927)\n",
            "(6, 0.4765806198120117)\n",
            "(7, 0.4631458520889282)\n",
            "(8, 0.2990432381629944)\n",
            "(9, 0.31106922030448914)\n",
            "(10, 0.3275088667869568)\n",
            "(11, 0.3856416344642639)\n",
            "(12, 0.4539105296134949)\n",
            "(13, 0.6107398271560669)\n",
            "(14, 0.3375813663005829)\n",
            "(15, 0.2420809268951416)\n",
            "(16, 0.2843931019306183)\n",
            "(17, 0.23814339935779572)\n",
            "(18, 0.5712463855743408)\n",
            "(19, 0.31766819953918457)\n",
            "(20, 0.4835413098335266)\n",
            "(21, 0.14750850200653076)\n",
            "(22, 0.34191229939460754)\n",
            "(23, 0.08504994213581085)\n",
            "(24, 0.5425404906272888)\n",
            "(25, 0.14932820200920105)\n",
            "(26, 0.19181294739246368)\n",
            "(27, 0.09313404560089111)\n",
            "(28, 0.18451285362243652)\n",
            "(29, 0.22396987676620483)\n",
            "(30, 0.049620967358350754)\n",
            "(31, 0.27660489082336426)\n",
            "(32, 0.14688967168331146)\n",
            "(33, 0.1351626068353653)\n",
            "(34, 0.6789872646331787)\n",
            "(35, 0.11179324239492416)\n",
            "(36, 0.12266849726438522)\n",
            "(37, 0.14140552282333374)\n",
            "(38, 0.0722593143582344)\n",
            "(39, 0.03322658687829971)\n",
            "(40, 0.16492655873298645)\n",
            "(41, 0.15122856199741364)\n",
            "(42, 0.09789155423641205)\n",
            "(43, 0.04272692650556564)\n",
            "(44, 0.19530999660491943)\n",
            "(45, 0.2090643048286438)\n",
            "(46, 0.07299713045358658)\n",
            "(47, 0.05166647210717201)\n",
            "(48, 0.07656040042638779)\n",
            "(49, 0.07063951343297958)\n",
            "(50, 0.1159924864768982)\n",
            "(51, 0.10183142125606537)\n",
            "(52, 0.13758118450641632)\n",
            "(53, 0.03593514487147331)\n",
            "(54, 0.03964300826191902)\n",
            "(55, 0.05119140446186066)\n",
            "(56, 0.03772164508700371)\n",
            "(57, 0.06473437696695328)\n",
            "(58, 0.07665915787220001)\n",
            "(59, 0.02598504163324833)\n",
            "(60, 0.018623879179358482)\n",
            "(61, 0.05408502742648125)\n",
            "(62, 0.017723195254802704)\n",
            "(63, 0.03212118521332741)\n",
            "(64, 0.030220376327633858)\n",
            "(65, 0.03849605470895767)\n",
            "(66, 0.05292747542262077)\n",
            "(67, 0.01921739988029003)\n",
            "(68, 0.01401611790060997)\n",
            "(69, 0.03849686682224274)\n",
            "(70, 0.024446211755275726)\n",
            "(71, 0.027609888464212418)\n",
            "(72, 0.06361067295074463)\n",
            "(73, 0.03231840580701828)\n",
            "(74, 0.018248803913593292)\n",
            "(75, 0.011031822301447392)\n",
            "(76, 0.020030956715345383)\n",
            "(77, 0.06175758317112923)\n",
            "(78, 0.011966795660555363)\n",
            "(79, 0.023066438734531403)\n",
            "(80, 0.017932619899511337)\n",
            "(81, 0.008660641498863697)\n",
            "(82, 0.039264701306819916)\n",
            "(83, 0.02081756480038166)\n",
            "(84, 0.0074802907183766365)\n",
            "(85, 0.01343756727874279)\n",
            "(86, 0.013067916966974735)\n",
            "(87, 0.024462010711431503)\n",
            "(88, 0.02991148643195629)\n",
            "(89, 0.051949117332696915)\n",
            "(90, 0.008131814189255238)\n",
            "(91, 0.011110546998679638)\n",
            "(92, 0.013430473394691944)\n",
            "(93, 0.008185439743101597)\n",
            "(94, 0.016494933515787125)\n",
            "(95, 0.017633536830544472)\n",
            "(96, 0.023869406431913376)\n",
            "(97, 0.018907323479652405)\n",
            "(98, 0.010655870661139488)\n",
            "(99, 0.013629219494760036)\n"
          ],
          "name": "stdout"
        }
      ]
    },
    {
      "cell_type": "code",
      "metadata": {
        "id": "7CKk5FKv2c6H",
        "colab_type": "code",
        "outputId": "1e02a394-4a83-4e07-a599-376082eb090b",
        "colab": {
          "base_uri": "https://localhost:8080/",
          "height": 34
        }
      },
      "source": [
        "val_loader = torch.utils.data.DataLoader(validation_set, batch_size=64, shuffle=True)\n",
        "\n",
        "correct = 0\n",
        "total = 0\n",
        "\n",
        "with torch.no_grad():\n",
        "  for imgs, labels in val_loader:\n",
        "    outputs = model(imgs.view(imgs.shape[0], -1))\n",
        "    _, predict = torch.max(outputs, dim=1)\n",
        "    total += labels.shape[0]\n",
        "\n",
        "    correct += int((predict == labels).sum())\n",
        "\n",
        "  \n",
        "print((correct/total))"
      ],
      "execution_count": 0,
      "outputs": [
        {
          "output_type": "stream",
          "text": [
            "0.5\n"
          ],
          "name": "stdout"
        }
      ]
    },
    {
      "cell_type": "code",
      "metadata": {
        "id": "oYHsyWGm5YqE",
        "colab_type": "code",
        "outputId": "744b8c67-d532-48c0-c54f-cd49e1dab54c",
        "colab": {
          "base_uri": "https://localhost:8080/",
          "height": 301
        }
      },
      "source": [
        "img, label = validation_set[50]\n",
        "out = model(img.view(-1).unsqueeze(0))\n",
        "_, index = torch.max(out, dim=1)\n",
        "out\n",
        "print(class_names[label], class_names[index])\n",
        "plt.imshow(img.permute(1,2,0))\n",
        "plt.show()"
      ],
      "execution_count": 0,
      "outputs": [
        {
          "output_type": "stream",
          "text": [
            "Clipping input data to the valid range for imshow with RGB data ([0..1] for floats or [0..255] for integers).\n"
          ],
          "name": "stderr"
        },
        {
          "output_type": "stream",
          "text": [
            "dog dog\n"
          ],
          "name": "stdout"
        },
        {
          "output_type": "display_data",
          "data": {
            "image/png": "[encoded data removed]",
            "text/plain": [
              "<Figure size 432x288 with 1 Axes>"
            ]
          },
          "metadata": {
            "tags": []
          }
        }
      ]
    },
    {
      "cell_type": "code",
      "metadata": {
        "id": "s-v0Z_Nl6wGu",
        "colab_type": "code",
        "outputId": "10d73217-7746-4c08-fd49-a5b1c31df150",
        "colab": {
          "base_uri": "https://localhost:8080/",
          "height": 1000
        }
      },
      "source": [
        "# Improving the model\n",
        "\n",
        "train_loader = torch.utils.data.DataLoader(data_set, batch_size=64, shuffle=True)\n",
        "\n",
        "model = nn.Sequential(\n",
        "    nn.Linear(3072, 1024),\n",
        "    nn.Tanh(),\n",
        "    nn.Linear(1024, 512),\n",
        "    nn.Tanh(),\n",
        "    nn.Linear(512, 128),\n",
        "    nn.Tanh(),\n",
        "    nn.Linear(128, 2)\n",
        ")\n",
        "\n",
        "loss_function = nn.CrossEntropyLoss()\n",
        "\n",
        "optimizer= optim.SGD(model.parameters(), lr=0.01)\n",
        "\n",
        "n_ephocs = 100\n",
        "\n",
        "for epoch in range(n_ephocs):\n",
        "  for img, label in train_loader:\n",
        "    out = model(img.view(img.shape[0], -1))\n",
        "    loss = loss_function(out, label)\n",
        "\n",
        "    optimizer.zero_grad()\n",
        "    loss.backward()\n",
        "    optimizer.step()\n",
        "\n",
        "  print(epoch, float(loss))\n",
        "\n"
      ],
      "execution_count": 0,
      "outputs": [
        {
          "output_type": "stream",
          "text": [
            "0 0.5808447003364563\n",
            "1 0.5208277702331543\n",
            "2 0.5206254720687866\n",
            "3 0.4690283536911011\n",
            "4 0.43881750106811523\n",
            "5 0.35437658429145813\n",
            "6 0.5975275635719299\n",
            "7 0.2882899045944214\n",
            "8 0.7217485308647156\n",
            "9 0.6433804631233215\n",
            "10 0.6879782676696777\n",
            "11 0.4682850241661072\n",
            "12 0.6227649450302124\n",
            "13 0.3064420819282532\n",
            "14 0.7316712737083435\n",
            "15 0.1925787329673767\n",
            "16 0.2509649395942688\n",
            "17 0.36864611506462097\n",
            "18 0.2576729357242584\n",
            "19 0.3582551181316376\n",
            "20 0.23072507977485657\n",
            "21 0.18456067144870758\n",
            "22 0.5913232564926147\n",
            "23 0.3554168939590454\n",
            "24 0.31385213136672974\n",
            "25 0.34566590189933777\n",
            "26 0.35317686200141907\n",
            "27 0.15715382993221283\n",
            "28 0.1608210653066635\n",
            "29 0.27303504943847656\n",
            "30 0.17774339020252228\n",
            "31 0.5654855370521545\n",
            "32 0.09883332252502441\n",
            "33 0.20335158705711365\n",
            "34 0.12832318246364594\n",
            "35 0.16778606176376343\n",
            "36 0.33221524953842163\n",
            "37 0.12158187478780746\n",
            "38 0.3510112464427948\n",
            "39 0.041200097650289536\n",
            "40 0.1555609256029129\n",
            "41 0.06476385146379471\n",
            "42 0.05234112590551376\n",
            "43 0.05177104100584984\n",
            "44 0.018720056861639023\n",
            "45 0.043660711497068405\n",
            "46 0.16572217643260956\n",
            "47 0.010211754590272903\n",
            "48 0.007988945581018925\n",
            "49 0.017827127128839493\n",
            "50 0.020027313381433487\n",
            "51 0.011698720045387745\n",
            "52 0.0189878698438406\n",
            "53 0.023084543645381927\n",
            "54 0.010525001212954521\n",
            "55 0.011663930490612984\n",
            "56 0.006050192750990391\n",
            "57 0.0039682951755821705\n",
            "58 0.01413725595921278\n",
            "59 0.002416362753137946\n",
            "60 0.007638275157660246\n",
            "61 0.0020429296419024467\n",
            "62 0.0012726958375424147\n",
            "63 0.0038716497365385294\n",
            "64 0.001228515524417162\n",
            "65 0.000860135187394917\n",
            "66 0.001981073524802923\n",
            "67 0.002232952509075403\n",
            "68 0.0009813832584768534\n",
            "69 0.002721905242651701\n",
            "70 0.0008667816291563213\n",
            "71 0.0028178486973047256\n",
            "72 0.0024321835953742266\n",
            "73 0.0014373051235452294\n",
            "74 0.0001431240962119773\n",
            "75 0.001571520115248859\n",
            "76 0.0010797894792631269\n",
            "77 0.0014725300716236234\n",
            "78 0.001056299894116819\n",
            "79 0.000980807701125741\n",
            "80 0.0005969916237518191\n",
            "81 0.0009146994561888278\n",
            "82 0.00034359973506070673\n",
            "83 0.0008893535705283284\n",
            "84 0.003375696251168847\n",
            "85 0.0010144775733351707\n",
            "86 0.00014751427806913853\n",
            "87 0.00031732654315419495\n",
            "88 0.0007440345361828804\n",
            "89 0.0005757866892963648\n",
            "90 0.0005253622075542808\n",
            "91 0.0006287406431511045\n",
            "92 0.0005070596234872937\n",
            "93 0.0015552715631201863\n",
            "94 0.00034798705019056797\n",
            "95 0.0012137481244280934\n",
            "96 0.00012586892989929765\n",
            "97 0.0005783768137916923\n",
            "98 0.002635234035551548\n",
            "99 0.0004582499386742711\n"
          ],
          "name": "stdout"
        }
      ]
    },
    {
      "cell_type": "code",
      "metadata": {
        "id": "YjV2H2fY_X7n",
        "colab_type": "code",
        "outputId": "3bf63378-c314-4d8c-eb94-a2da0138fd37",
        "colab": {
          "base_uri": "https://localhost:8080/",
          "height": 34
        }
      },
      "source": [
        "val_loader = torch.utils.data.DataLoader(validation_set, batch_size=64, shuffle=True)\n",
        "\n",
        "correct = 0\n",
        "total = 0\n",
        "\n",
        "with torch.no_grad():\n",
        "  for imgs, labels in val_loader:\n",
        "    outputs = model(imgs.view(imgs.shape[0], -1))\n",
        "    _, predict = torch.max(outputs, dim=1)\n",
        "    total += labels.shape[0]\n",
        "\n",
        "    correct += int((predict == labels).sum())\n",
        "\n",
        "  \n",
        "print((correct/total))"
      ],
      "execution_count": 0,
      "outputs": [
        {
          "output_type": "stream",
          "text": [
            "0.5\n"
          ],
          "name": "stdout"
        }
      ]
    },
    {
      "cell_type": "code",
      "metadata": {
        "id": "Pf5rX06F_qob",
        "colab_type": "code",
        "outputId": "b92cf00d-4a9b-4235-f215-22706b94f214",
        "colab": {
          "base_uri": "https://localhost:8080/",
          "height": 34
        }
      },
      "source": [
        "train_loader = torch.utils.data.DataLoader(data_set, batch_size=64, shuffle=True)\n",
        "\n",
        "correct = 0\n",
        "total = 0\n",
        "\n",
        "with torch.no_grad():\n",
        "  for imgs, labels in train_loader:\n",
        "    outputs = model(imgs.view(imgs.shape[0], -1))\n",
        "    _, predict = torch.max(outputs, dim=1)\n",
        "    total += labels.shape[0]\n",
        "\n",
        "    correct += int((predict == labels).sum())\n",
        "\n",
        "  \n",
        "print((correct/total))"
      ],
      "execution_count": 0,
      "outputs": [
        {
          "output_type": "stream",
          "text": [
            "1.0\n"
          ],
          "name": "stdout"
        }
      ]
    },
    {
      "cell_type": "code",
      "metadata": {
        "id": "wFhpXUFmALV_",
        "colab_type": "code",
        "outputId": "c0ac4cd7-4f5b-455f-9e03-b04705ab14e6",
        "colab": {
          "base_uri": "https://localhost:8080/",
          "height": 34
        }
      },
      "source": [
        "sum([p.numel() for p in model.parameters() if p.requires_grad == True])"
      ],
      "execution_count": 0,
      "outputs": [
        {
          "output_type": "execute_result",
          "data": {
            "text/plain": [
              "3737474"
            ]
          },
          "metadata": {
            "tags": []
          },
          "execution_count": 43
        }
      ]
    },
    {
      "cell_type": "code",
      "metadata": {
        "id": "9RZPQOpaBDzH",
        "colab_type": "code",
        "outputId": "1876e32b-070f-40ba-b87e-84577fdf213b",
        "colab": {
          "base_uri": "https://localhost:8080/",
          "height": 318
        }
      },
      "source": [
        "image = request.urlretrieve('https://s3-us-west-2.amazonaws.com/melingoimages/Images/38185.jpg')\n",
        "\n",
        "img = Image.open(image[0])\n",
        "\n",
        "preprocess = transforms.Compose([\n",
        "                                 transforms.Resize(48),\n",
        "                                 transforms.CenterCrop(32),\n",
        "                                 transforms.ToTensor(),\n",
        "                                 transforms.Normalize(\n",
        "                                     mean=[0.4915, 0.4823, 0.4468],\n",
        "                                     std=[0.2478, 0.2435, 0.2616]\n",
        "                                 )])\n",
        "\n",
        "img_t = preprocess(img)\n",
        "out = model(img_t.view(-1).unsqueeze(0))\n",
        "_, index= torch.max(out, dim=1)\n",
        "print(class_names[index])\n",
        "plt.imshow(img_t.permute(1, 2, 0))"
      ],
      "execution_count": 0,
      "outputs": [
        {
          "output_type": "stream",
          "text": [
            "Clipping input data to the valid range for imshow with RGB data ([0..1] for floats or [0..255] for integers).\n"
          ],
          "name": "stderr"
        },
        {
          "output_type": "stream",
          "text": [
            "frog\n"
          ],
          "name": "stdout"
        },
        {
          "output_type": "execute_result",
          "data": {
            "text/plain": [
              "<matplotlib.image.AxesImage at 0x7f4d010605f8>"
            ]
          },
          "metadata": {
            "tags": []
          },
          "execution_count": 46
        },
        {
          "output_type": "display_data",
          "data": {
            "image/png": "[encoded data removed]",
            "text/plain": [
              "<Figure size 432x288 with 1 Axes>"
            ]
          },
          "metadata": {
            "tags": []
          }
        }
      ]
    }
  ]
}