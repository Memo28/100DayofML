{
  "nbformat": 4,
  "nbformat_minor": 0,
  "metadata": {
    "colab": {
      "name": "CIFAR10.ipynb",
      "provenance": [],
      "authorship_tag": "ABX9TyO0wqIR2kbS5M7gROsLmHtg",
      "include_colab_link": true
    },
    "kernelspec": {
      "name": "python3",
      "display_name": "Python 3"
    }
  },
  "cells": [
    {
      "cell_type": "markdown",
      "metadata": {
        "id": "view-in-github",
        "colab_type": "text"
      },
      "source": [
        "<a href=\"https://colab.research.google.com/github/Memo28/100DayofML/blob/master/CIFAR10.ipynb\" target=\"_parent\"><img src=\"https://colab.research.google.com/assets/colab-badge.svg\" alt=\"Open In Colab\"/></a>"
      ]
    },
    {
      "cell_type": "code",
      "metadata": {
        "id": "edC0hAe5eDsv",
        "colab_type": "code",
        "colab": {}
      },
      "source": [
        "import torch\n",
        "from torchvision import utils\n",
        "from torchvision import models\n",
        "from torchvision import datasets\n",
        "from torchvision import transforms\n",
        "\n",
        "from PIL import Image\n",
        "import urllib.request as request\n",
        "from matplotlib import pyplot as plt"
      ],
      "execution_count": 0,
      "outputs": []
    },
    {
      "cell_type": "code",
      "metadata": {
        "id": "8b1YvV2XeeLt",
        "colab_type": "code",
        "colab": {
          "base_uri": "https://localhost:8080/",
          "height": 51
        },
        "outputId": "1f35bc08-d8a6-4ec5-9108-20b6de3b1d6e"
      },
      "source": [
        "data_path ='data/'\n",
        "dataset = datasets.CIFAR10(data_path, train=True, download=True)\n",
        "validation_set = datasets.CIFAR10(data_path, train = False, download= True)"
      ],
      "execution_count": 14,
      "outputs": [
        {
          "output_type": "stream",
          "text": [
            "Files already downloaded and verified\n",
            "Files already downloaded and verified\n"
          ],
          "name": "stdout"
        }
      ]
    },
    {
      "cell_type": "code",
      "metadata": {
        "colab_type": "code",
        "outputId": "498ea491-15b7-4700-ced0-01ab5f79fe25",
        "id": "3XIBlSUpiRO_",
        "colab": {
          "base_uri": "https://localhost:8080/",
          "height": 34
        }
      },
      "source": [
        "classes = ['plane','car', 'bird', 'deer', 'dog', 'frog', 'horse', 'ship', 'truck']\n",
        "len(dataset)\n",
        "img, label = dataset[522]\n",
        "img, label, classes[label]"
      ],
      "execution_count": 20,
      "outputs": [
        {
          "output_type": "execute_result",
          "data": {
            "text/plain": [
              "(<PIL.Image.Image image mode=RGB size=32x32 at 0x7FF2C5F31160>, 2, 'bird')"
            ]
          },
          "metadata": {
            "tags": []
          },
          "execution_count": 20
        }
      ]
    },
    {
      "cell_type": "code",
      "metadata": {
        "id": "BLSICofWiStE",
        "colab_type": "code",
        "colab": {
          "base_uri": "https://localhost:8080/",
          "height": 283
        },
        "outputId": "94bc549f-1fa6-49ca-a6f1-1b9d9c53e84d"
      },
      "source": [
        "plt.imshow(img)"
      ],
      "execution_count": 21,
      "outputs": [
        {
          "output_type": "execute_result",
          "data": {
            "text/plain": [
              "<matplotlib.image.AxesImage at 0x7ff2c45fdcc0>"
            ]
          },
          "metadata": {
            "tags": []
          },
          "execution_count": 21
        },
        {
          "output_type": "display_data",
          "data": {
            "image/png": "[encoded data removed]",
            "text/plain": [
              "<Figure size 432x288 with 1 Axes>"
            ]
          },
          "metadata": {
            "tags": []
          }
        }
      ]
    },
    {
      "cell_type": "code",
      "metadata": {
        "id": "XqyhVwOvkFiF",
        "colab_type": "code",
        "colab": {
          "base_uri": "https://localhost:8080/",
          "height": 442
        },
        "outputId": "9cd7a75c-6865-47b9-d7c1-4b3efe78c6b8"
      },
      "source": [
        "tensor_transform = transforms.ToTensor()\n",
        "img_tensor = tensor_transform(img)\n",
        "img, img_tensor, img_tensor.shape"
      ],
      "execution_count": 22,
      "outputs": [
        {
          "output_type": "execute_result",
          "data": {
            "text/plain": [
              "(<PIL.Image.Image image mode=RGB size=32x32 at 0x7FF2C5F31160>,\n",
              " tensor([[[0.5529, 0.5804, 0.6235,  ..., 0.7098, 0.7333, 0.7294],\n",
              "          [0.6235, 0.6549, 0.6627,  ..., 0.6980, 0.7255, 0.7333],\n",
              "          [0.7098, 0.7098, 0.6863,  ..., 0.6902, 0.7176, 0.7255],\n",
              "          ...,\n",
              "          [0.6275, 0.6235, 0.6510,  ..., 0.6863, 0.7059, 0.6941],\n",
              "          [0.6549, 0.6275, 0.6392,  ..., 0.7137, 0.7216, 0.6902],\n",
              "          [0.7059, 0.6510, 0.6431,  ..., 0.7098, 0.7294, 0.7020]],\n",
              " \n",
              "         [[0.4863, 0.5137, 0.5569,  ..., 0.6549, 0.6784, 0.6745],\n",
              "          [0.5569, 0.5882, 0.5961,  ..., 0.6431, 0.6706, 0.6784],\n",
              "          [0.6392, 0.6431, 0.6196,  ..., 0.6353, 0.6627, 0.6706],\n",
              "          ...,\n",
              "          [0.5569, 0.5569, 0.5843,  ..., 0.6235, 0.6431, 0.6353],\n",
              "          [0.5882, 0.5608, 0.5725,  ..., 0.6510, 0.6588, 0.6314],\n",
              "          [0.6392, 0.5843, 0.5765,  ..., 0.6471, 0.6667, 0.6392]],\n",
              " \n",
              "         [[0.3765, 0.4039, 0.4471,  ..., 0.5451, 0.5725, 0.5647],\n",
              "          [0.4471, 0.4784, 0.4863,  ..., 0.5373, 0.5647, 0.5686],\n",
              "          [0.5294, 0.5333, 0.5098,  ..., 0.5294, 0.5569, 0.5608],\n",
              "          ...,\n",
              "          [0.4471, 0.4471, 0.4745,  ..., 0.5255, 0.5412, 0.5333],\n",
              "          [0.4784, 0.4510, 0.4627,  ..., 0.5490, 0.5608, 0.5333],\n",
              "          [0.5294, 0.4706, 0.4627,  ..., 0.5490, 0.5647, 0.5412]]]),\n",
              " torch.Size([3, 32, 32]))"
            ]
          },
          "metadata": {
            "tags": []
          },
          "execution_count": 22
        }
      ]
    },
    {
      "cell_type": "code",
      "metadata": {
        "id": "HeBVeDKpkSg9",
        "colab_type": "code",
        "colab": {
          "base_uri": "https://localhost:8080/",
          "height": 34
        },
        "outputId": "c5eb53da-ccbb-4374-cbfd-d68f046700fd"
      },
      "source": [
        "dataset = datasets.CIFAR10(data_path, train=True, download=True, transform=transforms.ToTensor())"
      ],
      "execution_count": 24,
      "outputs": [
        {
          "output_type": "stream",
          "text": [
            "Files already downloaded and verified\n"
          ],
          "name": "stdout"
        }
      ]
    },
    {
      "cell_type": "code",
      "metadata": {
        "id": "pyTcuOu2kcf8",
        "colab_type": "code",
        "colab": {
          "base_uri": "https://localhost:8080/",
          "height": 408
        },
        "outputId": "4fa01196-8caf-4a9c-d891-1019826d3185"
      },
      "source": [
        "img, label = dataset[50]\n",
        "img"
      ],
      "execution_count": 27,
      "outputs": [
        {
          "output_type": "execute_result",
          "data": {
            "text/plain": [
              "tensor([[[0.0627, 0.0667, 0.0667,  ..., 0.2431, 0.2157, 0.2000],\n",
              "         [0.0627, 0.0627, 0.0588,  ..., 0.2431, 0.2275, 0.2039],\n",
              "         [0.0627, 0.0588, 0.0588,  ..., 0.2235, 0.2314, 0.2196],\n",
              "         ...,\n",
              "         [0.3765, 0.4471, 0.4667,  ..., 0.5020, 0.4706, 0.4588],\n",
              "         [0.4627, 0.3922, 0.4471,  ..., 0.5451, 0.5137, 0.4745],\n",
              "         [0.5647, 0.5333, 0.4118,  ..., 0.5686, 0.5373, 0.5137]],\n",
              "\n",
              "        [[0.2980, 0.3020, 0.3020,  ..., 0.4157, 0.3882, 0.3686],\n",
              "         [0.2980, 0.2980, 0.2941,  ..., 0.4275, 0.4118, 0.3922],\n",
              "         [0.2980, 0.2941, 0.2941,  ..., 0.4314, 0.4353, 0.4275],\n",
              "         ...,\n",
              "         [0.4314, 0.4980, 0.5176,  ..., 0.5294, 0.5098, 0.5137],\n",
              "         [0.5176, 0.4431, 0.4941,  ..., 0.5725, 0.5490, 0.5255],\n",
              "         [0.5804, 0.5490, 0.4471,  ..., 0.5922, 0.5647, 0.5529]],\n",
              "\n",
              "        [[0.2902, 0.2941, 0.2941,  ..., 0.3412, 0.3137, 0.2941],\n",
              "         [0.2902, 0.2902, 0.2902,  ..., 0.3294, 0.3137, 0.2941],\n",
              "         [0.2902, 0.2863, 0.2863,  ..., 0.3098, 0.3137, 0.3059],\n",
              "         ...,\n",
              "         [0.5412, 0.6235, 0.6549,  ..., 0.6000, 0.5686, 0.5569],\n",
              "         [0.6235, 0.5686, 0.6392,  ..., 0.6235, 0.6000, 0.5765],\n",
              "         [0.6784, 0.6588, 0.5608,  ..., 0.6667, 0.6392, 0.6196]]])"
            ]
          },
          "metadata": {
            "tags": []
          },
          "execution_count": 27
        }
      ]
    },
    {
      "cell_type": "code",
      "metadata": {
        "id": "pdJMw5AEkl3U",
        "colab_type": "code",
        "colab": {
          "base_uri": "https://localhost:8080/",
          "height": 283
        },
        "outputId": "195eb361-0813-4066-c4ec-0bc7a4b4f608"
      },
      "source": [
        "img.min(), img.max()\n",
        "plt.imshow(img.permute(1, 2, 0))"
      ],
      "execution_count": 29,
      "outputs": [
        {
          "output_type": "execute_result",
          "data": {
            "text/plain": [
              "<matplotlib.image.AxesImage at 0x7ff2c4598d30>"
            ]
          },
          "metadata": {
            "tags": []
          },
          "execution_count": 29
        },
        {
          "output_type": "display_data",
          "data": {
            "image/png": "[encoded data removed]",
            "text/plain": [
              "<Figure size 432x288 with 1 Axes>"
            ]
          },
          "metadata": {
            "tags": []
          }
        }
      ]
    },
    {
      "cell_type": "code",
      "metadata": {
        "id": "Eh9LDGh3tR4R",
        "colab_type": "code",
        "colab": {}
      },
      "source": [
        "imgs = torch.stack([img_tensor for img_tensor, _ in dataset], dim=3)"
      ],
      "execution_count": 0,
      "outputs": []
    },
    {
      "cell_type": "code",
      "metadata": {
        "id": "SwTO9B5ttc-Z",
        "colab_type": "code",
        "colab": {
          "base_uri": "https://localhost:8080/",
          "height": 34
        },
        "outputId": "82534967-484f-4d11-9e66-c17edcb74040"
      },
      "source": [
        "imgs.shape"
      ],
      "execution_count": 31,
      "outputs": [
        {
          "output_type": "execute_result",
          "data": {
            "text/plain": [
              "torch.Size([3, 32, 32, 50000])"
            ]
          },
          "metadata": {
            "tags": []
          },
          "execution_count": 31
        }
      ]
    },
    {
      "cell_type": "code",
      "metadata": {
        "id": "QBgpFP0sti_P",
        "colab_type": "code",
        "colab": {
          "base_uri": "https://localhost:8080/",
          "height": 34
        },
        "outputId": "5ecb6822-5099-443e-a486-8d8c107388b4"
      },
      "source": [
        "imgs.view(3, -1).mean(dim=1), imgs.view(3, -1).std(dim=1)"
      ],
      "execution_count": 33,
      "outputs": [
        {
          "output_type": "execute_result",
          "data": {
            "text/plain": [
              "(tensor([0.4915, 0.4823, 0.4468]), tensor([0.2470, 0.2435, 0.2616]))"
            ]
          },
          "metadata": {
            "tags": []
          },
          "execution_count": 33
        }
      ]
    },
    {
      "cell_type": "code",
      "metadata": {
        "id": "e5WrCmsWum44",
        "colab_type": "code",
        "colab": {}
      },
      "source": [
        "transform = transforms.Compose(\n",
        "    [transforms.ToTensor(),\n",
        "     transforms.Normalize((0.4915, 0.4823, 0.4468), (0.2470, 0.2435, 0.2616))\n",
        "     ])"
      ],
      "execution_count": 0,
      "outputs": []
    },
    {
      "cell_type": "code",
      "metadata": {
        "id": "53riYivGvAGR",
        "colab_type": "code",
        "colab": {
          "base_uri": "https://localhost:8080/",
          "height": 34
        },
        "outputId": "b619bd04-0875-4ba2-990e-02d98a9fb8bc"
      },
      "source": [
        "dataset = datasets.CIFAR10(data_path, train=True, download=True, transform=transform)"
      ],
      "execution_count": 35,
      "outputs": [
        {
          "output_type": "stream",
          "text": [
            "Files already downloaded and verified\n"
          ],
          "name": "stdout"
        }
      ]
    },
    {
      "cell_type": "code",
      "metadata": {
        "id": "Rc-aEsXivEqT",
        "colab_type": "code",
        "colab": {
          "base_uri": "https://localhost:8080/",
          "height": 300
        },
        "outputId": "6aa472ab-1cf7-4305-ab19-d8ade283c9d6"
      },
      "source": [
        "img_transoformed, label = dataset[5]\n",
        "\n",
        "plt.imshow(img_transoformed.permute(1, 2, 0))\n",
        "classes[label]"
      ],
      "execution_count": 37,
      "outputs": [
        {
          "output_type": "stream",
          "text": [
            "Clipping input data to the valid range for imshow with RGB data ([0..1] for floats or [0..255] for integers).\n"
          ],
          "name": "stderr"
        },
        {
          "output_type": "execute_result",
          "data": {
            "text/plain": [
              "'car'"
            ]
          },
          "metadata": {
            "tags": []
          },
          "execution_count": 37
        },
        {
          "output_type": "display_data",
          "data": {
            "image/png": "[encoded data removed]",
            "text/plain": [
              "<Figure size 432x288 with 1 Axes>"
            ]
          },
          "metadata": {
            "tags": []
          }
        }
      ]
    }
  ]
}