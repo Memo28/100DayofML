{
  "nbformat": 4,
  "nbformat_minor": 0,
  "metadata": {
    "colab": {
      "name": "Regresion Logistica.ipynb",
      "provenance": [],
      "collapsed_sections": [],
      "include_colab_link": true
    },
    "kernelspec": {
      "name": "python3",
      "display_name": "Python 3"
    }
  },
  "cells": [
    {
      "cell_type": "markdown",
      "metadata": {
        "id": "view-in-github",
        "colab_type": "text"
      },
      "source": [
        "<a href=\"https://colab.research.google.com/github/Memo28/100DayofML/blob/master/Regresion_Logistica.ipynb\" target=\"_parent\"><img src=\"https://colab.research.google.com/assets/colab-badge.svg\" alt=\"Open In Colab\"/></a>"
      ]
    },
    {
      "cell_type": "code",
      "metadata": {
        "id": "bw_oNAvuv6rD",
        "colab_type": "code",
        "colab": {}
      },
      "source": [
        "import numpy as np\n",
        "import matplotlib.pyplot as plt\n",
        "import torch\n",
        "import torch.nn as nn\n",
        "import torch.optim as optim\n"
      ],
      "execution_count": 0,
      "outputs": []
    },
    {
      "cell_type": "code",
      "metadata": {
        "id": "oMnx6tIIwOxH",
        "colab_type": "code",
        "colab": {
          "base_uri": "https://localhost:8080/",
          "height": 1000
        },
        "outputId": "c5fd5233-9d59-4931-b51e-5596586bd774"
      },
      "source": [
        "n = 100\n",
        "h = n//2\n",
        "dimen = 2\n",
        "# Generate random data\n",
        "data = np.random.rand(n, dimen)*3\n",
        "data"
      ],
      "execution_count": 54,
      "outputs": [
        {
          "output_type": "execute_result",
          "data": {
            "text/plain": [
              "array([[0.20024984, 1.62323929],\n",
              "       [1.38476435, 1.93543088],\n",
              "       [2.62285432, 2.47854767],\n",
              "       [1.84668563, 0.69992484],\n",
              "       [2.00714704, 0.40638274],\n",
              "       [1.15712188, 1.51811008],\n",
              "       [1.41605342, 2.91090362],\n",
              "       [2.01200115, 2.61738518],\n",
              "       [2.41559577, 1.94477077],\n",
              "       [0.6300857 , 2.7980467 ],\n",
              "       [0.74660527, 2.84939332],\n",
              "       [1.00059779, 2.3888019 ],\n",
              "       [1.27269566, 0.25487704],\n",
              "       [0.09582116, 1.51793148],\n",
              "       [2.52297238, 1.12909891],\n",
              "       [1.81745126, 0.2798601 ],\n",
              "       [2.6308384 , 0.85842314],\n",
              "       [0.90848858, 1.13375181],\n",
              "       [0.22976675, 2.20683158],\n",
              "       [0.86073361, 0.40578243],\n",
              "       [1.08262455, 0.17285133],\n",
              "       [1.4690075 , 1.25865084],\n",
              "       [1.28961241, 1.56006584],\n",
              "       [1.49853543, 0.82749113],\n",
              "       [1.60003995, 0.46118732],\n",
              "       [0.95076708, 2.4707069 ],\n",
              "       [0.12937827, 0.37781954],\n",
              "       [0.15259354, 1.74523128],\n",
              "       [2.01603432, 0.93971069],\n",
              "       [2.40365318, 1.05741642],\n",
              "       [0.99975431, 1.50653588],\n",
              "       [2.96300813, 1.41968403],\n",
              "       [1.55112856, 1.01508378],\n",
              "       [2.63261057, 1.34479428],\n",
              "       [0.65835104, 0.82354783],\n",
              "       [1.05632697, 0.47134362],\n",
              "       [2.02002732, 2.66551393],\n",
              "       [0.63880028, 2.0455416 ],\n",
              "       [2.1502382 , 1.05600583],\n",
              "       [1.79026872, 2.65869205],\n",
              "       [1.02395284, 0.31265196],\n",
              "       [2.13465286, 0.82547324],\n",
              "       [1.80115462, 2.54157758],\n",
              "       [2.91719632, 1.13518166],\n",
              "       [2.44480608, 0.93080414],\n",
              "       [2.01722783, 1.03907998],\n",
              "       [0.01479883, 1.69440759],\n",
              "       [2.30913215, 0.77685751],\n",
              "       [1.01845158, 2.20953758],\n",
              "       [1.81935726, 0.70479316],\n",
              "       [2.39326193, 1.53671975],\n",
              "       [0.11038042, 0.74213889],\n",
              "       [0.23816808, 2.02931026],\n",
              "       [2.85498363, 0.88238909],\n",
              "       [1.03420848, 2.42353028],\n",
              "       [2.9714193 , 2.80037021],\n",
              "       [2.67040365, 1.00152697],\n",
              "       [2.85933631, 0.07538809],\n",
              "       [2.62621962, 2.18756143],\n",
              "       [1.43016203, 1.51196729],\n",
              "       [2.93741233, 1.05401392],\n",
              "       [0.43212553, 2.45641851],\n",
              "       [0.0251336 , 1.39968987],\n",
              "       [0.17947765, 0.93463978],\n",
              "       [0.73344122, 0.1005274 ],\n",
              "       [0.82741828, 0.68522428],\n",
              "       [2.90516596, 1.80531281],\n",
              "       [1.63027808, 2.454209  ],\n",
              "       [0.3603873 , 0.39981261],\n",
              "       [0.55015222, 1.25130625],\n",
              "       [1.27093764, 2.7020824 ],\n",
              "       [0.24685124, 0.93768356],\n",
              "       [1.0368838 , 2.18354197],\n",
              "       [2.20945407, 1.74018581],\n",
              "       [1.34721218, 1.34836829],\n",
              "       [0.35738623, 1.90979559],\n",
              "       [2.19070757, 1.37299401],\n",
              "       [0.92172616, 0.24322474],\n",
              "       [0.2028529 , 0.9468872 ],\n",
              "       [0.77350016, 1.88744666],\n",
              "       [2.63085117, 2.86570768],\n",
              "       [0.32082479, 0.56301806],\n",
              "       [2.71661877, 1.13872535],\n",
              "       [2.03680048, 0.69580599],\n",
              "       [0.26354763, 2.15814272],\n",
              "       [1.50924949, 0.34328868],\n",
              "       [1.46057269, 0.89205357],\n",
              "       [2.40975819, 0.53827747],\n",
              "       [0.51057293, 0.56342222],\n",
              "       [1.79797272, 1.72198089],\n",
              "       [1.16920893, 2.35914972],\n",
              "       [1.49376115, 2.44697344],\n",
              "       [1.15490705, 2.54876694],\n",
              "       [1.23902475, 0.30240551],\n",
              "       [0.49545892, 1.78392636],\n",
              "       [0.36658613, 2.03705797],\n",
              "       [0.42173218, 1.36577916],\n",
              "       [2.01740519, 0.18130619],\n",
              "       [1.25106452, 1.27381128],\n",
              "       [2.2167957 , 0.70968066]])"
            ]
          },
          "metadata": {
            "tags": []
          },
          "execution_count": 54
        }
      ]
    },
    {
      "cell_type": "code",
      "metadata": {
        "id": "xfxH3ulAwYvp",
        "colab_type": "code",
        "colab": {
          "base_uri": "https://localhost:8080/",
          "height": 282
        },
        "outputId": "d1be809a-7272-405b-932e-7c7fb573f931"
      },
      "source": [
        "# Mapping the data\n",
        "plt.scatter(data[:,0], data[:,1])"
      ],
      "execution_count": 55,
      "outputs": [
        {
          "output_type": "execute_result",
          "data": {
            "text/plain": [
              "<matplotlib.collections.PathCollection at 0x7f426ffcda58>"
            ]
          },
          "metadata": {
            "tags": []
          },
          "execution_count": 55
        },
        {
          "output_type": "display_data",
          "data": {
            "image/png": "[encoded data removed]",
            "text/plain": [
              "<Figure size 432x288 with 1 Axes>"
            ]
          },
          "metadata": {
            "tags": []
          }
        }
      ]
    },
    {
      "cell_type": "code",
      "metadata": {
        "id": "93DjAzdYxG9k",
        "colab_type": "code",
        "colab": {}
      },
      "source": [
        "# Creating an arbitrarian point\n",
        "data[:h, :] = data[:h, :] - 3*np.ones((h, dimen))"
      ],
      "execution_count": 0,
      "outputs": []
    },
    {
      "cell_type": "code",
      "metadata": {
        "id": "zDlm10uAxTuQ",
        "colab_type": "code",
        "colab": {}
      },
      "source": [
        "# Creating an arbitrarian point\n",
        "data[h:, :] = data[h:, :] + 3*np.ones((h, dimen))"
      ],
      "execution_count": 0,
      "outputs": []
    },
    {
      "cell_type": "code",
      "metadata": {
        "id": "hFNWicXRxd1t",
        "colab_type": "code",
        "colab": {
          "base_uri": "https://localhost:8080/",
          "height": 282
        },
        "outputId": "b6befdfb-9de0-4e71-d5e4-72aa401e1fc5"
      },
      "source": [
        "# Maping the data and given a color\n",
        "colors = ['blue', 'red']\n",
        "color = np.array([colors[0]]* h + [colors[1]]*h).reshape(n)\n",
        "plt.scatter(data[:,0], data[:,1], c=color, s=75, alpha= 0.75)"
      ],
      "execution_count": 58,
      "outputs": [
        {
          "output_type": "execute_result",
          "data": {
            "text/plain": [
              "<matplotlib.collections.PathCollection at 0x7f42701cae80>"
            ]
          },
          "metadata": {
            "tags": []
          },
          "execution_count": 58
        },
        {
          "output_type": "display_data",
          "data": {
            "image/png": "[encoded data removed]",
            "text/plain": [
              "<Figure size 432x288 with 1 Axes>"
            ]
          },
          "metadata": {
            "tags": []
          }
        }
      ]
    },
    {
      "cell_type": "code",
      "metadata": {
        "id": "liK88qmry2Qo",
        "colab_type": "code",
        "colab": {
          "base_uri": "https://localhost:8080/",
          "height": 34
        },
        "outputId": "f07ec8e9-50aa-460e-dd26-0a731d736dcc"
      },
      "source": [
        "# Creating the target\n",
        "target = np.array([0]* h + [1]*h).reshape(n, 1)\n",
        "x = torch.from_numpy(data).float().requires_grad_(True)\n",
        "y = torch.from_numpy(target).float()\n",
        "\n",
        "x.shape, y.shape"
      ],
      "execution_count": 59,
      "outputs": [
        {
          "output_type": "execute_result",
          "data": {
            "text/plain": [
              "(torch.Size([100, 2]), torch.Size([100, 1]))"
            ]
          },
          "metadata": {
            "tags": []
          },
          "execution_count": 59
        }
      ]
    },
    {
      "cell_type": "code",
      "metadata": {
        "id": "tTUlVyTozdli",
        "colab_type": "code",
        "colab": {
          "base_uri": "https://localhost:8080/",
          "height": 282
        },
        "outputId": "4a63d30c-5fb5-4e08-ec6e-29f3035b2993"
      },
      "source": [
        "# Creating a linear regresion an applying a sigmoid function to get a value between [0,1] for the clasification\n",
        "model = nn.Sequential(\n",
        "        nn.Linear(2,1),\n",
        "        nn.Sigmoid()\n",
        ")\n",
        "\n",
        "loss_function = nn.BCELoss()\n",
        "optimizer = optim.SGD(model.parameters(), lr=0.01)\n",
        "\n",
        "losses = []\n",
        "iterations = 1000\n",
        "for i in range(iterations):\n",
        "  # Forward past\n",
        "  result = model(x)\n",
        "  loss = loss_function(result, y)\n",
        "  losses.append(loss.data)\n",
        "\n",
        "  # Back propagation\n",
        "  optimizer.zero_grad()\n",
        "  loss.backward()\n",
        "\n",
        "  optimizer.step()\n",
        "\n",
        "plt.plot(range(iterations), losses)\n",
        "loss"
      ],
      "execution_count": 60,
      "outputs": [
        {
          "output_type": "execute_result",
          "data": {
            "text/plain": [
              "tensor(0.0240, grad_fn=<BinaryCrossEntropyBackward>)"
            ]
          },
          "metadata": {
            "tags": []
          },
          "execution_count": 60
        },
        {
          "output_type": "display_data",
          "data": {
            "image/png": "[encoded data removed]",
            "text/plain": [
              "<Figure size 432x288 with 1 Axes>"
            ]
          },
          "metadata": {
            "tags": []
          }
        }
      ]
    },
    {
      "cell_type": "code",
      "metadata": {
        "id": "woKmiP8o1a85",
        "colab_type": "code",
        "colab": {
          "base_uri": "https://localhost:8080/",
          "height": 52
        },
        "outputId": "5a192694-64d8-4d6f-ce40-675821c54ea6"
      },
      "source": [
        "# Checking the model with values\n",
        "blue = torch.Tensor([[-1, -2]])\n",
        "prediction = model(blue).data[0][0] > 0.5\n",
        "print(colors[prediction])\n",
        "\n",
        "red = torch.Tensor([[5, 6]])\n",
        "prediction = model(red).data[0][0] > 0.5\n",
        "print(colors[prediction])"
      ],
      "execution_count": 61,
      "outputs": [
        {
          "output_type": "stream",
          "text": [
            "blue\n",
            "red\n"
          ],
          "name": "stdout"
        }
      ]
    },
    {
      "cell_type": "code",
      "metadata": {
        "id": "Dh9trXdT2ISp",
        "colab_type": "code",
        "colab": {
          "base_uri": "https://localhost:8080/",
          "height": 282
        },
        "outputId": "e80527de-461f-47e2-b817-5fd01c9920be"
      },
      "source": [
        "# Getting the weights\n",
        "w = list(model.parameters())\n",
        "w0 = w[0].data.numpy()\n",
        "w1 = w[1].data.numpy()\n",
        "\n",
        "# Plotting separating the data\n",
        "plt.scatter(data[:,0], data[:,1], c=color, s=75, alpha=0.75)\n",
        "\n",
        "x_axis = np.linspace(-5, 10, n)\n",
        "y_axis = -(w1[0] + x_axis*w0[0][0]) / w0[0][1]\n",
        "plt.plot(x_axis, y_axis, 'g--')"
      ],
      "execution_count": 63,
      "outputs": [
        {
          "output_type": "execute_result",
          "data": {
            "text/plain": [
              "[<matplotlib.lines.Line2D at 0x7f426ff3a0b8>]"
            ]
          },
          "metadata": {
            "tags": []
          },
          "execution_count": 63
        },
        {
          "output_type": "display_data",
          "data": {
            "image/png": "[encoded data removed]",
            "text/plain": [
              "<Figure size 432x288 with 1 Axes>"
            ]
          },
          "metadata": {
            "tags": []
          }
        }
      ]
    }
  ]
}