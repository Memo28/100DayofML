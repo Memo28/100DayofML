{
  "nbformat": 4,
  "nbformat_minor": 0,
  "metadata": {
    "colab": {
      "name": "numpy.ipynb",
      "provenance": [],
      "authorship_tag": "ABX9TyNxifNq9SYMPzFK1pZ2fanI",
      "include_colab_link": true
    },
    "kernelspec": {
      "name": "python3",
      "display_name": "Python 3"
    }
  },
  "cells": [
    {
      "cell_type": "markdown",
      "metadata": {
        "id": "view-in-github",
        "colab_type": "text"
      },
      "source": [
        "<a href=\"https://colab.research.google.com/github/Memo28/100DayofML/blob/master/numpy.ipynb\" target=\"_parent\"><img src=\"https://colab.research.google.com/assets/colab-badge.svg\" alt=\"Open In Colab\"/></a>"
      ]
    },
    {
      "cell_type": "code",
      "metadata": {
        "id": "sYuDHgM3w_Ls",
        "colab_type": "code",
        "colab": {}
      },
      "source": [
        " import numpy as np"
      ],
      "execution_count": 0,
      "outputs": []
    },
    {
      "cell_type": "code",
      "metadata": {
        "id": "86OSvcsbxGFH",
        "colab_type": "code",
        "colab": {}
      },
      "source": [
        "a = np.array([10, 20, 24, 5, 15, 50, 20, 24, 5, 15, 50])"
      ],
      "execution_count": 0,
      "outputs": []
    },
    {
      "cell_type": "code",
      "metadata": {
        "id": "ZexP1qemxUr8",
        "colab_type": "code",
        "colab": {
          "base_uri": "https://localhost:8080/",
          "height": 34
        },
        "outputId": "27647ed7-3259-40e5-d82d-20464bf24280"
      },
      "source": [
        "a[3:]"
      ],
      "execution_count": 9,
      "outputs": [
        {
          "output_type": "execute_result",
          "data": {
            "text/plain": [
              "array([ 5, 15, 50, 20, 24,  5, 15, 50])"
            ]
          },
          "metadata": {
            "tags": []
          },
          "execution_count": 9
        }
      ]
    },
    {
      "cell_type": "code",
      "metadata": {
        "id": "jTP2NMIT5UAr",
        "colab_type": "code",
        "colab": {
          "base_uri": "https://localhost:8080/",
          "height": 34
        },
        "outputId": "c1ee9b09-a40b-4e39-9926-888d0181d87c"
      },
      "source": [
        "a[3:7]"
      ],
      "execution_count": 10,
      "outputs": [
        {
          "output_type": "execute_result",
          "data": {
            "text/plain": [
              "array([ 5, 15, 50, 20])"
            ]
          },
          "metadata": {
            "tags": []
          },
          "execution_count": 10
        }
      ]
    },
    {
      "cell_type": "code",
      "metadata": {
        "id": "fgVYP5yA5WK6",
        "colab_type": "code",
        "colab": {
          "base_uri": "https://localhost:8080/",
          "height": 34
        },
        "outputId": "e56663e9-552a-4b42-f6ab-87558b541a70"
      },
      "source": [
        "# Print alternating each 4 elements\n",
        "a[::2]"
      ],
      "execution_count": 13,
      "outputs": [
        {
          "output_type": "execute_result",
          "data": {
            "text/plain": [
              "array([10, 24, 15, 20,  5, 50])"
            ]
          },
          "metadata": {
            "tags": []
          },
          "execution_count": 13
        }
      ]
    },
    {
      "cell_type": "code",
      "metadata": {
        "id": "HUDNR6Lj5s8K",
        "colab_type": "code",
        "colab": {
          "base_uri": "https://localhost:8080/",
          "height": 34
        },
        "outputId": "8952240f-720e-4861-cd9f-293052968ed8"
      },
      "source": [
        "np.zeros(5)"
      ],
      "execution_count": 14,
      "outputs": [
        {
          "output_type": "execute_result",
          "data": {
            "text/plain": [
              "array([0., 0., 0., 0., 0.])"
            ]
          },
          "metadata": {
            "tags": []
          },
          "execution_count": 14
        }
      ]
    },
    {
      "cell_type": "code",
      "metadata": {
        "id": "wi2nvrFd5w2b",
        "colab_type": "code",
        "colab": {
          "base_uri": "https://localhost:8080/",
          "height": 85
        },
        "outputId": "ecdbcd36-900a-470d-feda-02f256257fcc"
      },
      "source": [
        "# Array of 4 row and 5 colums\n",
        "ones = np.ones((4, 5))\n",
        "\n",
        "ones "
      ],
      "execution_count": 16,
      "outputs": [
        {
          "output_type": "execute_result",
          "data": {
            "text/plain": [
              "array([[1., 1., 1., 1., 1.],\n",
              "       [1., 1., 1., 1., 1.],\n",
              "       [1., 1., 1., 1., 1.],\n",
              "       [1., 1., 1., 1., 1.]])"
            ]
          },
          "metadata": {
            "tags": []
          },
          "execution_count": 16
        }
      ]
    },
    {
      "cell_type": "code",
      "metadata": {
        "id": "aCNLtAYD58oh",
        "colab_type": "code",
        "colab": {
          "base_uri": "https://localhost:8080/",
          "height": 34
        },
        "outputId": "13c8caa1-92f4-4561-f5dc-6bcdaa39b3d3"
      },
      "source": [
        "type(ones)"
      ],
      "execution_count": 17,
      "outputs": [
        {
          "output_type": "execute_result",
          "data": {
            "text/plain": [
              "numpy.ndarray"
            ]
          },
          "metadata": {
            "tags": []
          },
          "execution_count": 17
        }
      ]
    },
    {
      "cell_type": "code",
      "metadata": {
        "id": "LExPs6zG6C8S",
        "colab_type": "code",
        "colab": {
          "base_uri": "https://localhost:8080/",
          "height": 34
        },
        "outputId": "592f46ff-dd46-4334-b78c-c857f4741eaf"
      },
      "source": [
        "type(ones[3][0])"
      ],
      "execution_count": 19,
      "outputs": [
        {
          "output_type": "execute_result",
          "data": {
            "text/plain": [
              "numpy.float64"
            ]
          },
          "metadata": {
            "tags": []
          },
          "execution_count": 19
        }
      ]
    },
    {
      "cell_type": "code",
      "metadata": {
        "id": "a0CgCkg48J-r",
        "colab_type": "code",
        "colab": {
          "base_uri": "https://localhost:8080/",
          "height": 34
        },
        "outputId": "451b19a6-de8b-4bf8-8b27-af759ccc7931"
      },
      "source": [
        "# Array con 5 elementos en y los valores estan entre 3 y 10\n",
        "np.linspace(3, 50, 5)"
      ],
      "execution_count": 22,
      "outputs": [
        {
          "output_type": "execute_result",
          "data": {
            "text/plain": [
              "array([ 3.  , 14.75, 26.5 , 38.25, 50.  ])"
            ]
          },
          "metadata": {
            "tags": []
          },
          "execution_count": 22
        }
      ]
    },
    {
      "cell_type": "code",
      "metadata": {
        "id": "rcsZDmju8eGE",
        "colab_type": "code",
        "colab": {
          "base_uri": "https://localhost:8080/",
          "height": 68
        },
        "outputId": "38cf27ba-a07b-4414-9c59-841d1d970370"
      },
      "source": [
        "b = np.array([['x', 'y', 'z'], ['x', 'y', 'z']])\n",
        "print(b)\n",
        "type(b)"
      ],
      "execution_count": 26,
      "outputs": [
        {
          "output_type": "stream",
          "text": [
            "[['x' 'y' 'z']\n",
            " ['x' 'y' 'z']]\n"
          ],
          "name": "stdout"
        },
        {
          "output_type": "execute_result",
          "data": {
            "text/plain": [
              "numpy.ndarray"
            ]
          },
          "metadata": {
            "tags": []
          },
          "execution_count": 26
        }
      ]
    },
    {
      "cell_type": "code",
      "metadata": {
        "id": "tvBygmwO80A6",
        "colab_type": "code",
        "colab": {
          "base_uri": "https://localhost:8080/",
          "height": 34
        },
        "outputId": "f7b906df-4776-4d80-b4ac-640c8f372828"
      },
      "source": [
        "# Devuelve el numero de dimensiones del arreglo\n",
        "b.ndim"
      ],
      "execution_count": 29,
      "outputs": [
        {
          "output_type": "execute_result",
          "data": {
            "text/plain": [
              "2"
            ]
          },
          "metadata": {
            "tags": []
          },
          "execution_count": 29
        }
      ]
    },
    {
      "cell_type": "code",
      "metadata": {
        "id": "LCy9mdbe88WK",
        "colab_type": "code",
        "colab": {
          "base_uri": "https://localhost:8080/",
          "height": 34
        },
        "outputId": "670a716a-46a5-4b9f-98cd-872f35b3d997"
      },
      "source": [
        "c = [12, 4, 10, 40, 2]\n",
        "np.sort(c)"
      ],
      "execution_count": 30,
      "outputs": [
        {
          "output_type": "execute_result",
          "data": {
            "text/plain": [
              "array([ 2,  4, 10, 12, 40])"
            ]
          },
          "metadata": {
            "tags": []
          },
          "execution_count": 30
        }
      ]
    },
    {
      "cell_type": "code",
      "metadata": {
        "id": "6STzEMMU9EEi",
        "colab_type": "code",
        "colab": {
          "base_uri": "https://localhost:8080/",
          "height": 51
        },
        "outputId": "6d84e21b-86ee-445a-bad1-8ac8de28cfdd"
      },
      "source": [
        "# Nombre del parametro de cabecera y el dtype que sera\n",
        "cabeceras = [(\"nombre\", \"S10\"), (\"edad\", int)]\n",
        "datos = [('Juan', 10), ('Miguel', 30), ('Tono', 80), ('Rodrigo', 15)]\n",
        "\n",
        "# Creamos un nuevo arreglo con las cebeceras y los datos\n",
        "usuarios = np.array(datos, dtype= cabeceras)\n",
        "\n",
        "usuarios\n"
      ],
      "execution_count": 33,
      "outputs": [
        {
          "output_type": "execute_result",
          "data": {
            "text/plain": [
              "array([(b'Juan', 10), (b'Miguel', 30), (b'Tono', 80), (b'Rodrigo', 15)],\n",
              "      dtype=[('nombre', 'S10'), ('edad', '<i8')])"
            ]
          },
          "metadata": {
            "tags": []
          },
          "execution_count": 33
        }
      ]
    },
    {
      "cell_type": "code",
      "metadata": {
        "id": "QKNKm05UDUFt",
        "colab_type": "code",
        "colab": {
          "base_uri": "https://localhost:8080/",
          "height": 51
        },
        "outputId": "00679602-2fbf-435f-b6c6-fa43b14fb93c"
      },
      "source": [
        "# Ordenar el arreglo por edad\n",
        "np.sort(usuarios, order='nombre')"
      ],
      "execution_count": 55,
      "outputs": [
        {
          "output_type": "execute_result",
          "data": {
            "text/plain": [
              "array([(b'Juan', 10), (b'Miguel', 30), (b'Rodrigo', 15), (b'Tono', 80)],\n",
              "      dtype=[('nombre', 'S10'), ('edad', '<i8')])"
            ]
          },
          "metadata": {
            "tags": []
          },
          "execution_count": 55
        }
      ]
    },
    {
      "cell_type": "code",
      "metadata": {
        "id": "f43WrNQnELSA",
        "colab_type": "code",
        "colab": {
          "base_uri": "https://localhost:8080/",
          "height": 34
        },
        "outputId": "489b231b-55de-42bd-a034-e77c5c37fc7d"
      },
      "source": [
        "# Crear un arreglo que inicie en 5 y se detanga en 50 con saltos de 7, tambien se puede ocupara para generar un array con x numero de elementos np.arange(10) -> crea un array con numeros del 0 al 9\n",
        "np.arange(start = 5, stop = 50, step = 7)"
      ],
      "execution_count": 42,
      "outputs": [
        {
          "output_type": "execute_result",
          "data": {
            "text/plain": [
              "array([ 5, 12, 19, 26, 33, 40, 47])"
            ]
          },
          "metadata": {
            "tags": []
          },
          "execution_count": 42
        }
      ]
    },
    {
      "cell_type": "code",
      "metadata": {
        "id": "GhbsZjGSEvo9",
        "colab_type": "code",
        "colab": {
          "base_uri": "https://localhost:8080/",
          "height": 68
        },
        "outputId": "39a6eb52-7a43-4c66-b4bd-1b650304dfff"
      },
      "source": [
        "# Crear un arreglo o matriz y lo llena con el numero que se le pase como segundo parametro \n",
        "np.full((3, 2), 5)"
      ],
      "execution_count": 51,
      "outputs": [
        {
          "output_type": "execute_result",
          "data": {
            "text/plain": [
              "array([[5, 5],\n",
              "       [5, 5],\n",
              "       [5, 5]])"
            ]
          },
          "metadata": {
            "tags": []
          },
          "execution_count": 51
        }
      ]
    },
    {
      "cell_type": "code",
      "metadata": {
        "id": "ElYoA_vAGe4r",
        "colab_type": "code",
        "colab": {
          "base_uri": "https://localhost:8080/",
          "height": 102
        },
        "outputId": "2e41dda6-f789-45f4-ab8d-3d8ff96881d6"
      },
      "source": [
        "# Crea una matriz diagonal con los numeros que se les pase en la diagonal\n",
        "np.diag([6, 8, 0, 10, 9])"
      ],
      "execution_count": 54,
      "outputs": [
        {
          "output_type": "execute_result",
          "data": {
            "text/plain": [
              "array([[ 6,  0,  0,  0,  0],\n",
              "       [ 0,  8,  0,  0,  0],\n",
              "       [ 0,  0,  0,  0,  0],\n",
              "       [ 0,  0,  0, 10,  0],\n",
              "       [ 0,  0,  0,  0,  9]])"
            ]
          },
          "metadata": {
            "tags": []
          },
          "execution_count": 54
        }
      ]
    },
    {
      "cell_type": "code",
      "metadata": {
        "id": "yCAOMNceHC7r",
        "colab_type": "code",
        "colab": {
          "base_uri": "https://localhost:8080/",
          "height": 68
        },
        "outputId": "98921422-5e54-4cd5-e3ed-65d1501a23f8"
      },
      "source": [
        "cabeceras = [('Nombre', 'S10'), ('Edad', int), ('Pais', 'S10')]\n",
        "datos = [('Miguel', 18, 'Mexico'), ('Arturo', 65, 'Peru'), ('Rocio', 10, 'Tunez'), ('Amber', 8, 'Rusia')]\n",
        "\n",
        "usuarios = np.array(datos, dtype= cabeceras)\n",
        "usuarios"
      ],
      "execution_count": 56,
      "outputs": [
        {
          "output_type": "execute_result",
          "data": {
            "text/plain": [
              "array([(b'Miguel', 18, b'Mexico'), (b'Arturo', 65, b'Peru'),\n",
              "       (b'Rocio', 10, b'Tunez'), (b'Amber',  8, b'Rusia')],\n",
              "      dtype=[('Nombre', 'S10'), ('Edad', '<i8'), ('Pais', 'S10')])"
            ]
          },
          "metadata": {
            "tags": []
          },
          "execution_count": 56
        }
      ]
    },
    {
      "cell_type": "code",
      "metadata": {
        "id": "xmIRaEAxHtnt",
        "colab_type": "code",
        "colab": {
          "base_uri": "https://localhost:8080/",
          "height": 68
        },
        "outputId": "8c9e5b39-ddb1-4a8d-8b5f-fd1bdd91de17"
      },
      "source": [
        "np.sort(usuarios, order='Pais')"
      ],
      "execution_count": 57,
      "outputs": [
        {
          "output_type": "execute_result",
          "data": {
            "text/plain": [
              "array([(b'Miguel', 18, b'Mexico'), (b'Arturo', 65, b'Peru'),\n",
              "       (b'Amber',  8, b'Rusia'), (b'Rocio', 10, b'Tunez')],\n",
              "      dtype=[('Nombre', 'S10'), ('Edad', '<i8'), ('Pais', 'S10')])"
            ]
          },
          "metadata": {
            "tags": []
          },
          "execution_count": 57
        }
      ]
    }
  ]
}